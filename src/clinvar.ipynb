{
 "cells": [
  {
   "cell_type": "code",
   "execution_count": 97,
   "metadata": {},
   "outputs": [],
   "source": [
    "import pandas as pd\n",
    "import table_cleaning_functions as tcf"
   ]
  },
  {
   "cell_type": "code",
   "execution_count": 98,
   "metadata": {},
   "outputs": [
    {
     "data": {
      "text/html": [
       "<div>\n",
       "<style scoped>\n",
       "    .dataframe tbody tr th:only-of-type {\n",
       "        vertical-align: middle;\n",
       "    }\n",
       "\n",
       "    .dataframe tbody tr th {\n",
       "        vertical-align: top;\n",
       "    }\n",
       "\n",
       "    .dataframe thead th {\n",
       "        text-align: right;\n",
       "    }\n",
       "</style>\n",
       "<table border=\"1\" class=\"dataframe\">\n",
       "  <thead>\n",
       "    <tr style=\"text-align: right;\">\n",
       "      <th></th>\n",
       "      <th>biomarker_ID</th>\n",
       "      <th>main_Xref</th>\n",
       "      <th>assessed_biomarker_entity</th>\n",
       "      <th>biomarker_status</th>\n",
       "      <th>best_biomarker_type</th>\n",
       "      <th>specimen_type</th>\n",
       "      <th>loinc_code</th>\n",
       "      <th>condition_name</th>\n",
       "      <th>assessed_entity_type</th>\n",
       "      <th>evidence_source</th>\n",
       "      <th>notes</th>\n",
       "      <th>rsID</th>\n",
       "      <th>disease</th>\n",
       "      <th>uniprot</th>\n",
       "      <th>Name</th>\n",
       "      <th>SYSTEM</th>\n",
       "      <th>Gene</th>\n",
       "      <th>DOID</th>\n",
       "      <th>mutation</th>\n",
       "      <th>variation</th>\n",
       "    </tr>\n",
       "  </thead>\n",
       "  <tbody>\n",
       "    <tr>\n",
       "      <th>0</th>\n",
       "      <td>NaN</td>\n",
       "      <td>dbSNP:rs1800562</td>\n",
       "      <td>rs1800562 mutation in hereditary haemochromato...</td>\n",
       "      <td>presence of</td>\n",
       "      <td>risk_biomarker</td>\n",
       "      <td>blood (UN:0000178)</td>\n",
       "      <td>48579-7</td>\n",
       "      <td>cancer (DOID:162)</td>\n",
       "      <td>gene</td>\n",
       "      <td>ClinVar|https://www.ncbi.nlm.nih.gov/clinvar/v...</td>\n",
       "      <td>UPKB:Q9UK37 (NM_000410.4(HFE):c.845G&gt;A (p.Cys2...</td>\n",
       "      <td>1800562.0</td>\n",
       "      <td>cancer</td>\n",
       "      <td>Q9UK37</td>\n",
       "      <td>Hereditary haemochromatosis protein (Hereditar...</td>\n",
       "      <td>Bld/Tiss</td>\n",
       "      <td>HFE</td>\n",
       "      <td>162.0</td>\n",
       "      <td>NM_000410.4(HFE):c.845G&gt;A (p.Cys282Tyr)</td>\n",
       "      <td>9.0</td>\n",
       "    </tr>\n",
       "    <tr>\n",
       "      <th>1</th>\n",
       "      <td>NaN</td>\n",
       "      <td>dbSNP:rs121908830</td>\n",
       "      <td>rs121908830 mutation in transmembrane protein ...</td>\n",
       "      <td>presence of</td>\n",
       "      <td>risk_biomarker</td>\n",
       "      <td>NaN</td>\n",
       "      <td>NaN</td>\n",
       "      <td>cancer (DOID:162)</td>\n",
       "      <td>gene</td>\n",
       "      <td>ClinVar|https://www.ncbi.nlm.nih.gov/clinvar/v...</td>\n",
       "      <td>UPKB:C9J4H2 (NM_017849.4(TMEM127):c.475C&gt;T (p....</td>\n",
       "      <td>121908830.0</td>\n",
       "      <td>cancer</td>\n",
       "      <td>C9J4H2</td>\n",
       "      <td>Transmembrane protein 127</td>\n",
       "      <td>NaN</td>\n",
       "      <td>TMEM127</td>\n",
       "      <td>162.0</td>\n",
       "      <td>NM_017849.4(TMEM127):c.475C&gt;T (p.Gln159Ter)</td>\n",
       "      <td>108.0</td>\n",
       "    </tr>\n",
       "    <tr>\n",
       "      <th>2</th>\n",
       "      <td>NaN</td>\n",
       "      <td>dbSNP:rs137854550</td>\n",
       "      <td>rs137854550 mutation in neurofibromin (NF1)</td>\n",
       "      <td>presence of</td>\n",
       "      <td>risk_biomarker</td>\n",
       "      <td>amniotic fluid (UN:0000173)</td>\n",
       "      <td>45331-6</td>\n",
       "      <td>cancer (DOID:162)</td>\n",
       "      <td>gene</td>\n",
       "      <td>ClinVar|https://www.ncbi.nlm.nih.gov/clinvar/v...</td>\n",
       "      <td>UPKB:Q9UMU3 (NM_001042492.3(NF1):c.4330A&gt;C (p....</td>\n",
       "      <td>137854550.0</td>\n",
       "      <td>cancer</td>\n",
       "      <td>Q9UMU3</td>\n",
       "      <td>Neurofibromin</td>\n",
       "      <td>Amnio fld</td>\n",
       "      <td>NF1</td>\n",
       "      <td>162.0</td>\n",
       "      <td>NM_001042492.3(NF1):c.4330A&gt;C (p.Lys1444Gln)</td>\n",
       "      <td>431637.0</td>\n",
       "    </tr>\n",
       "    <tr>\n",
       "      <th>3</th>\n",
       "      <td>NaN</td>\n",
       "      <td>dbSNP:rs137854552</td>\n",
       "      <td>rs137854552 mutation in neurofibromin (NF1)</td>\n",
       "      <td>presence of</td>\n",
       "      <td>risk_biomarker</td>\n",
       "      <td>amniotic fluid (UN:0000173)</td>\n",
       "      <td>45331-6</td>\n",
       "      <td>cancer (DOID:162)</td>\n",
       "      <td>gene</td>\n",
       "      <td>ClinVar|https://www.ncbi.nlm.nih.gov/clinvar/v...</td>\n",
       "      <td>UPKB:Q9UMU3 (NM_001042492.3(NF1):c.5902C&gt;A (p....</td>\n",
       "      <td>137854552.0</td>\n",
       "      <td>cancer</td>\n",
       "      <td>Q9UMU3</td>\n",
       "      <td>Neurofibromin</td>\n",
       "      <td>Amnio fld</td>\n",
       "      <td>NF1</td>\n",
       "      <td>162.0</td>\n",
       "      <td>NM_001042492.3(NF1):c.5902C&gt;A (p.Arg1968=)</td>\n",
       "      <td>825999.0</td>\n",
       "    </tr>\n",
       "    <tr>\n",
       "      <th>4</th>\n",
       "      <td>NaN</td>\n",
       "      <td>dbSNP:rs137854560</td>\n",
       "      <td>rs137854560 mutation in neurofibromin (NF1)</td>\n",
       "      <td>presence of</td>\n",
       "      <td>risk_biomarker</td>\n",
       "      <td>amniotic fluid (UN:0000173)</td>\n",
       "      <td>45331-6</td>\n",
       "      <td>cancer (DOID:162)</td>\n",
       "      <td>gene</td>\n",
       "      <td>ClinVar|https://www.ncbi.nlm.nih.gov/clinvar/v...</td>\n",
       "      <td>UPKB:Q9UMU3 (NM_001042492.3(NF1):c.4084C&gt;T (p....</td>\n",
       "      <td>137854560.0</td>\n",
       "      <td>cancer</td>\n",
       "      <td>Q9UMU3</td>\n",
       "      <td>Neurofibromin</td>\n",
       "      <td>Amnio fld</td>\n",
       "      <td>NF1</td>\n",
       "      <td>162.0</td>\n",
       "      <td>NM_001042492.3(NF1):c.4084C&gt;T (p.Arg1362Ter)</td>\n",
       "      <td>344.0</td>\n",
       "    </tr>\n",
       "  </tbody>\n",
       "</table>\n",
       "</div>"
      ],
      "text/plain": [
       "   biomarker_ID          main_Xref  \\\n",
       "0           NaN    dbSNP:rs1800562   \n",
       "1           NaN  dbSNP:rs121908830   \n",
       "2           NaN  dbSNP:rs137854550   \n",
       "3           NaN  dbSNP:rs137854552   \n",
       "4           NaN  dbSNP:rs137854560   \n",
       "\n",
       "                           assessed_biomarker_entity biomarker_status  \\\n",
       "0  rs1800562 mutation in hereditary haemochromato...      presence of   \n",
       "1  rs121908830 mutation in transmembrane protein ...      presence of   \n",
       "2        rs137854550 mutation in neurofibromin (NF1)      presence of   \n",
       "3        rs137854552 mutation in neurofibromin (NF1)      presence of   \n",
       "4        rs137854560 mutation in neurofibromin (NF1)      presence of   \n",
       "\n",
       "  best_biomarker_type                specimen_type loinc_code  \\\n",
       "0      risk_biomarker           blood (UN:0000178)    48579-7   \n",
       "1      risk_biomarker                          NaN        NaN   \n",
       "2      risk_biomarker  amniotic fluid (UN:0000173)    45331-6   \n",
       "3      risk_biomarker  amniotic fluid (UN:0000173)    45331-6   \n",
       "4      risk_biomarker  amniotic fluid (UN:0000173)    45331-6   \n",
       "\n",
       "      condition_name assessed_entity_type  \\\n",
       "0  cancer (DOID:162)                 gene   \n",
       "1  cancer (DOID:162)                 gene   \n",
       "2  cancer (DOID:162)                 gene   \n",
       "3  cancer (DOID:162)                 gene   \n",
       "4  cancer (DOID:162)                 gene   \n",
       "\n",
       "                                     evidence_source  \\\n",
       "0  ClinVar|https://www.ncbi.nlm.nih.gov/clinvar/v...   \n",
       "1  ClinVar|https://www.ncbi.nlm.nih.gov/clinvar/v...   \n",
       "2  ClinVar|https://www.ncbi.nlm.nih.gov/clinvar/v...   \n",
       "3  ClinVar|https://www.ncbi.nlm.nih.gov/clinvar/v...   \n",
       "4  ClinVar|https://www.ncbi.nlm.nih.gov/clinvar/v...   \n",
       "\n",
       "                                               notes         rsID disease  \\\n",
       "0  UPKB:Q9UK37 (NM_000410.4(HFE):c.845G>A (p.Cys2...    1800562.0  cancer   \n",
       "1  UPKB:C9J4H2 (NM_017849.4(TMEM127):c.475C>T (p....  121908830.0  cancer   \n",
       "2  UPKB:Q9UMU3 (NM_001042492.3(NF1):c.4330A>C (p....  137854550.0  cancer   \n",
       "3  UPKB:Q9UMU3 (NM_001042492.3(NF1):c.5902C>A (p....  137854552.0  cancer   \n",
       "4  UPKB:Q9UMU3 (NM_001042492.3(NF1):c.4084C>T (p....  137854560.0  cancer   \n",
       "\n",
       "  uniprot                                               Name     SYSTEM  \\\n",
       "0  Q9UK37  Hereditary haemochromatosis protein (Hereditar...   Bld/Tiss   \n",
       "1  C9J4H2                          Transmembrane protein 127        NaN   \n",
       "2  Q9UMU3                                      Neurofibromin  Amnio fld   \n",
       "3  Q9UMU3                                      Neurofibromin  Amnio fld   \n",
       "4  Q9UMU3                                      Neurofibromin  Amnio fld   \n",
       "\n",
       "      Gene   DOID                                      mutation  variation  \n",
       "0      HFE  162.0       NM_000410.4(HFE):c.845G>A (p.Cys282Tyr)        9.0  \n",
       "1  TMEM127  162.0   NM_017849.4(TMEM127):c.475C>T (p.Gln159Ter)      108.0  \n",
       "2      NF1  162.0  NM_001042492.3(NF1):c.4330A>C (p.Lys1444Gln)   431637.0  \n",
       "3      NF1  162.0    NM_001042492.3(NF1):c.5902C>A (p.Arg1968=)   825999.0  \n",
       "4      NF1  162.0  NM_001042492.3(NF1):c.4084C>T (p.Arg1362Ter)      344.0  "
      ]
     },
     "execution_count": 98,
     "metadata": {},
     "output_type": "execute_result"
    }
   ],
   "source": [
    "# load raw data \n",
    "raw_df = pd.read_csv('../home/raw_data/clinvar_biomarkers_revised.csv')\n",
    "raw_df = raw_df.drop(raw_df.columns[0], axis=1)\n",
    "raw_df.head()"
   ]
  },
  {
   "cell_type": "code",
   "execution_count": 99,
   "metadata": {},
   "outputs": [],
   "source": [
    "for col in raw_df.columns:\n",
    "    raw_df[col] = tcf.strip_values(raw_df[col])"
   ]
  },
  {
   "cell_type": "code",
   "execution_count": 100,
   "metadata": {},
   "outputs": [
    {
     "data": {
      "text/plain": [
       "biomarker_ID                 151469\n",
       "main_Xref                      1232\n",
       "assessed_biomarker_entity         0\n",
       "biomarker_status                  0\n",
       "best_biomarker_type               0\n",
       "specimen_type                 35933\n",
       "loinc_code                    35933\n",
       "condition_name                    0\n",
       "assessed_entity_type              0\n",
       "evidence_source                   1\n",
       "notes                             1\n",
       "rsID                           1233\n",
       "disease                           1\n",
       "uniprot                         253\n",
       "Name                            253\n",
       "SYSTEM                        35933\n",
       "Gene                              1\n",
       "DOID                            868\n",
       "mutation                       1233\n",
       "variation                      1233\n",
       "dtype: int64"
      ]
     },
     "execution_count": 100,
     "metadata": {},
     "output_type": "execute_result"
    }
   ],
   "source": [
    "# check for missing values\n",
    "raw_df.isnull().sum()"
   ]
  },
  {
   "cell_type": "code",
   "execution_count": 101,
   "metadata": {},
   "outputs": [
    {
     "data": {
      "text/plain": [
       "(151469, 20)"
      ]
     },
     "execution_count": 101,
     "metadata": {},
     "output_type": "execute_result"
    }
   ],
   "source": [
    "raw_df.shape"
   ]
  },
  {
   "cell_type": "code",
   "execution_count": 102,
   "metadata": {},
   "outputs": [
    {
     "data": {
      "text/plain": [
       "(150236, 20)"
      ]
     },
     "execution_count": 102,
     "metadata": {},
     "output_type": "execute_result"
    }
   ],
   "source": [
    "# drop rows with missing evidence_source or RSID values \n",
    "raw_df = raw_df.dropna(subset=['evidence_source'])\n",
    "raw_df = raw_df.dropna(subset=['rsID'])\n",
    "raw_df.shape"
   ]
  },
  {
   "cell_type": "code",
   "execution_count": 103,
   "metadata": {},
   "outputs": [
    {
     "data": {
      "text/html": [
       "<div>\n",
       "<style scoped>\n",
       "    .dataframe tbody tr th:only-of-type {\n",
       "        vertical-align: middle;\n",
       "    }\n",
       "\n",
       "    .dataframe tbody tr th {\n",
       "        vertical-align: top;\n",
       "    }\n",
       "\n",
       "    .dataframe thead th {\n",
       "        text-align: right;\n",
       "    }\n",
       "</style>\n",
       "<table border=\"1\" class=\"dataframe\">\n",
       "  <thead>\n",
       "    <tr style=\"text-align: right;\">\n",
       "      <th></th>\n",
       "      <th>biomarker_id</th>\n",
       "      <th>biomarker</th>\n",
       "      <th>assessed_biomarker_entity</th>\n",
       "      <th>assessed_biomarker_entity_id</th>\n",
       "      <th>assessed_entity_type</th>\n",
       "      <th>condition</th>\n",
       "      <th>condition_id</th>\n",
       "      <th>exposure_agent</th>\n",
       "      <th>exposure_agent_id</th>\n",
       "      <th>best_biomarker_role</th>\n",
       "      <th>specimen</th>\n",
       "      <th>specimen_id</th>\n",
       "      <th>loinc_code</th>\n",
       "      <th>evidence_source</th>\n",
       "      <th>evidence</th>\n",
       "      <th>tag</th>\n",
       "    </tr>\n",
       "  </thead>\n",
       "  <tbody>\n",
       "  </tbody>\n",
       "</table>\n",
       "</div>"
      ],
      "text/plain": [
       "Empty DataFrame\n",
       "Columns: [biomarker_id, biomarker, assessed_biomarker_entity, assessed_biomarker_entity_id, assessed_entity_type, condition, condition_id, exposure_agent, exposure_agent_id, best_biomarker_role, specimen, specimen_id, loinc_code, evidence_source, evidence, tag]\n",
       "Index: []"
      ]
     },
     "execution_count": 103,
     "metadata": {},
     "output_type": "execute_result"
    }
   ],
   "source": [
    "new_df = pd.DataFrame(columns = tcf.TSV_HEADERS)\n",
    "new_df.head()"
   ]
  },
  {
   "cell_type": "code",
   "execution_count": 104,
   "metadata": {},
   "outputs": [
    {
     "data": {
      "text/html": [
       "<div>\n",
       "<style scoped>\n",
       "    .dataframe tbody tr th:only-of-type {\n",
       "        vertical-align: middle;\n",
       "    }\n",
       "\n",
       "    .dataframe tbody tr th {\n",
       "        vertical-align: top;\n",
       "    }\n",
       "\n",
       "    .dataframe thead th {\n",
       "        text-align: right;\n",
       "    }\n",
       "</style>\n",
       "<table border=\"1\" class=\"dataframe\">\n",
       "  <thead>\n",
       "    <tr style=\"text-align: right;\">\n",
       "      <th></th>\n",
       "      <th>biomarker_id</th>\n",
       "      <th>biomarker</th>\n",
       "      <th>assessed_biomarker_entity</th>\n",
       "      <th>assessed_biomarker_entity_id</th>\n",
       "      <th>assessed_entity_type</th>\n",
       "      <th>condition</th>\n",
       "      <th>condition_id</th>\n",
       "      <th>exposure_agent</th>\n",
       "      <th>exposure_agent_id</th>\n",
       "      <th>best_biomarker_role</th>\n",
       "      <th>specimen</th>\n",
       "      <th>specimen_id</th>\n",
       "      <th>loinc_code</th>\n",
       "      <th>evidence_source</th>\n",
       "      <th>evidence</th>\n",
       "      <th>tag</th>\n",
       "    </tr>\n",
       "  </thead>\n",
       "  <tbody>\n",
       "    <tr>\n",
       "      <th>0</th>\n",
       "      <td>NaN</td>\n",
       "      <td>presence of rs1800562 mutation in hereditary h...</td>\n",
       "      <td>HFE</td>\n",
       "      <td>dbSNP:rs1800562</td>\n",
       "      <td>gene</td>\n",
       "      <td>cancer</td>\n",
       "      <td>DOID:162</td>\n",
       "      <td>NaN</td>\n",
       "      <td>NaN</td>\n",
       "      <td>risk</td>\n",
       "      <td>blood</td>\n",
       "      <td>UN:0000178</td>\n",
       "      <td>48579-7</td>\n",
       "      <td>ClinVar:9</td>\n",
       "      <td></td>\n",
       "      <td>biomarker;assessed_biomarker_entity_id;assesse...</td>\n",
       "    </tr>\n",
       "    <tr>\n",
       "      <th>1</th>\n",
       "      <td>NaN</td>\n",
       "      <td>presence of rs121908830 mutation in transmembr...</td>\n",
       "      <td>TMEM127</td>\n",
       "      <td>dbSNP:rs121908830</td>\n",
       "      <td>gene</td>\n",
       "      <td>cancer</td>\n",
       "      <td>DOID:162</td>\n",
       "      <td>NaN</td>\n",
       "      <td>NaN</td>\n",
       "      <td>risk</td>\n",
       "      <td>NaN</td>\n",
       "      <td>NaN</td>\n",
       "      <td>NaN</td>\n",
       "      <td>ClinVar:108</td>\n",
       "      <td></td>\n",
       "      <td>biomarker;assessed_biomarker_entity_id;assesse...</td>\n",
       "    </tr>\n",
       "    <tr>\n",
       "      <th>2</th>\n",
       "      <td>NaN</td>\n",
       "      <td>presence of rs137854550 mutation in neurofibro...</td>\n",
       "      <td>NF1</td>\n",
       "      <td>dbSNP:rs137854550</td>\n",
       "      <td>gene</td>\n",
       "      <td>cancer</td>\n",
       "      <td>DOID:162</td>\n",
       "      <td>NaN</td>\n",
       "      <td>NaN</td>\n",
       "      <td>risk</td>\n",
       "      <td>amniotic fluid</td>\n",
       "      <td>UN:0000173</td>\n",
       "      <td>45331-6</td>\n",
       "      <td>ClinVar:431637</td>\n",
       "      <td></td>\n",
       "      <td>biomarker;assessed_biomarker_entity_id;assesse...</td>\n",
       "    </tr>\n",
       "    <tr>\n",
       "      <th>3</th>\n",
       "      <td>NaN</td>\n",
       "      <td>presence of rs137854552 mutation in neurofibro...</td>\n",
       "      <td>NF1</td>\n",
       "      <td>dbSNP:rs137854552</td>\n",
       "      <td>gene</td>\n",
       "      <td>cancer</td>\n",
       "      <td>DOID:162</td>\n",
       "      <td>NaN</td>\n",
       "      <td>NaN</td>\n",
       "      <td>risk</td>\n",
       "      <td>amniotic fluid</td>\n",
       "      <td>UN:0000173</td>\n",
       "      <td>45331-6</td>\n",
       "      <td>ClinVar:825999</td>\n",
       "      <td></td>\n",
       "      <td>biomarker;assessed_biomarker_entity_id;assesse...</td>\n",
       "    </tr>\n",
       "    <tr>\n",
       "      <th>4</th>\n",
       "      <td>NaN</td>\n",
       "      <td>presence of rs137854560 mutation in neurofibro...</td>\n",
       "      <td>NF1</td>\n",
       "      <td>dbSNP:rs137854560</td>\n",
       "      <td>gene</td>\n",
       "      <td>cancer</td>\n",
       "      <td>DOID:162</td>\n",
       "      <td>NaN</td>\n",
       "      <td>NaN</td>\n",
       "      <td>risk</td>\n",
       "      <td>amniotic fluid</td>\n",
       "      <td>UN:0000173</td>\n",
       "      <td>45331-6</td>\n",
       "      <td>ClinVar:344</td>\n",
       "      <td></td>\n",
       "      <td>biomarker;assessed_biomarker_entity_id;assesse...</td>\n",
       "    </tr>\n",
       "  </tbody>\n",
       "</table>\n",
       "</div>"
      ],
      "text/plain": [
       "  biomarker_id                                          biomarker  \\\n",
       "0          NaN  presence of rs1800562 mutation in hereditary h...   \n",
       "1          NaN  presence of rs121908830 mutation in transmembr...   \n",
       "2          NaN  presence of rs137854550 mutation in neurofibro...   \n",
       "3          NaN  presence of rs137854552 mutation in neurofibro...   \n",
       "4          NaN  presence of rs137854560 mutation in neurofibro...   \n",
       "\n",
       "  assessed_biomarker_entity assessed_biomarker_entity_id assessed_entity_type  \\\n",
       "0                       HFE              dbSNP:rs1800562                 gene   \n",
       "1                   TMEM127            dbSNP:rs121908830                 gene   \n",
       "2                       NF1            dbSNP:rs137854550                 gene   \n",
       "3                       NF1            dbSNP:rs137854552                 gene   \n",
       "4                       NF1            dbSNP:rs137854560                 gene   \n",
       "\n",
       "  condition condition_id exposure_agent exposure_agent_id best_biomarker_role  \\\n",
       "0   cancer      DOID:162            NaN               NaN                risk   \n",
       "1   cancer      DOID:162            NaN               NaN                risk   \n",
       "2   cancer      DOID:162            NaN               NaN                risk   \n",
       "3   cancer      DOID:162            NaN               NaN                risk   \n",
       "4   cancer      DOID:162            NaN               NaN                risk   \n",
       "\n",
       "          specimen specimen_id loinc_code evidence_source evidence  \\\n",
       "0           blood   UN:0000178    48579-7       ClinVar:9            \n",
       "1              NaN         NaN        NaN     ClinVar:108            \n",
       "2  amniotic fluid   UN:0000173    45331-6  ClinVar:431637            \n",
       "3  amniotic fluid   UN:0000173    45331-6  ClinVar:825999            \n",
       "4  amniotic fluid   UN:0000173    45331-6     ClinVar:344            \n",
       "\n",
       "                                                 tag  \n",
       "0  biomarker;assessed_biomarker_entity_id;assesse...  \n",
       "1  biomarker;assessed_biomarker_entity_id;assesse...  \n",
       "2  biomarker;assessed_biomarker_entity_id;assesse...  \n",
       "3  biomarker;assessed_biomarker_entity_id;assesse...  \n",
       "4  biomarker;assessed_biomarker_entity_id;assesse...  "
      ]
     },
     "execution_count": 104,
     "metadata": {},
     "output_type": "execute_result"
    }
   ],
   "source": [
    "new_df['biomarker'] = raw_df['biomarker_status'] + ' ' + raw_df['assessed_biomarker_entity']\n",
    "new_df['assessed_biomarker_entity_id'] = raw_df['main_Xref']\n",
    "new_df['assessed_biomarker_entity'] = raw_df['Gene']\n",
    "new_df['assessed_entity_type'] = raw_df['assessed_entity_type']\n",
    "new_df['best_biomarker_role'] = raw_df['best_biomarker_type'].str.replace('_biomarker', '')\n",
    "new_df['specimen'] = raw_df['specimen_type'].str.findall(r'^(.*?)\\(').str[0]\n",
    "new_df['specimen_id'] = raw_df['specimen_type'].str.findall(r'\\((.*?)\\)$').str[0]\n",
    "new_df['loinc_code'] = raw_df['loinc_code']\n",
    "new_df['condition'] = raw_df['condition_name'].str.findall(r'^(.*?)\\(').str[0] \n",
    "new_df['condition_id'] = raw_df['condition_name'].str.findall(r'\\((.*?)\\)$').str[0]\n",
    "raw_df['evidence_source'] = raw_df['evidence_source'].fillna('')\n",
    "new_df['evidence_source'] = 'ClinVar:' + raw_df['evidence_source'].str.findall(r'variation/(\\d+)').str[0]\n",
    "new_df['evidence'] = ''\n",
    "new_df['tag'] = 'biomarker;assessed_biomarker_entity_id;assessed_biomarker_entity;specimen;condition'\n",
    "new_df.head()"
   ]
  },
  {
   "cell_type": "code",
   "execution_count": 105,
   "metadata": {},
   "outputs": [
    {
     "data": {
      "text/plain": [
       "(150236, 16)"
      ]
     },
     "execution_count": 105,
     "metadata": {},
     "output_type": "execute_result"
    }
   ],
   "source": [
    "new_df.shape"
   ]
  },
  {
   "cell_type": "code",
   "execution_count": 106,
   "metadata": {},
   "outputs": [
    {
     "data": {
      "text/plain": [
       "biomarker_id                    150236\n",
       "biomarker                            0\n",
       "assessed_biomarker_entity            0\n",
       "assessed_biomarker_entity_id         0\n",
       "assessed_entity_type                 0\n",
       "condition                          858\n",
       "condition_id                       858\n",
       "exposure_agent                  150236\n",
       "exposure_agent_id               150236\n",
       "best_biomarker_role                  0\n",
       "specimen                         35678\n",
       "specimen_id                      35678\n",
       "loinc_code                       35678\n",
       "evidence_source                      0\n",
       "evidence                             0\n",
       "tag                                  0\n",
       "dtype: int64"
      ]
     },
     "execution_count": 106,
     "metadata": {},
     "output_type": "execute_result"
    }
   ],
   "source": [
    "new_df.isnull().sum()"
   ]
  },
  {
   "cell_type": "code",
   "execution_count": 107,
   "metadata": {},
   "outputs": [
    {
     "data": {
      "text/plain": [
       "(149378, 16)"
      ]
     },
     "execution_count": 107,
     "metadata": {},
     "output_type": "execute_result"
    }
   ],
   "source": [
    "# drop null condition rows \n",
    "new_df = new_df.dropna(subset=['condition'])\n",
    "new_df.shape"
   ]
  },
  {
   "cell_type": "code",
   "execution_count": 108,
   "metadata": {},
   "outputs": [
    {
     "data": {
      "text/plain": [
       "biomarker_id                    149378\n",
       "biomarker                            0\n",
       "assessed_biomarker_entity            0\n",
       "assessed_biomarker_entity_id         0\n",
       "assessed_entity_type                 0\n",
       "condition                            0\n",
       "condition_id                         0\n",
       "exposure_agent                  149378\n",
       "exposure_agent_id               149378\n",
       "best_biomarker_role                  0\n",
       "specimen                         35038\n",
       "specimen_id                      35038\n",
       "loinc_code                       35038\n",
       "evidence_source                      0\n",
       "evidence                             0\n",
       "tag                                  0\n",
       "dtype: int64"
      ]
     },
     "execution_count": 108,
     "metadata": {},
     "output_type": "execute_result"
    }
   ],
   "source": [
    "new_df.isnull().sum()"
   ]
  },
  {
   "cell_type": "code",
   "execution_count": 111,
   "metadata": {},
   "outputs": [],
   "source": [
    "new_df['biomarker'] = tcf.clean_parantheticals(new_df['biomarker'])\n",
    "new_df['specimen_id'] = tcf.map_prefixes(new_df['specimen_id'])"
   ]
  },
  {
   "cell_type": "code",
   "execution_count": 112,
   "metadata": {},
   "outputs": [],
   "source": [
    "new_df.to_csv('../home/cleaned_data/clinvar_biomarkers.tsv', sep='\\t', index=False)"
   ]
  }
 ],
 "metadata": {
  "kernelspec": {
   "display_name": "base",
   "language": "python",
   "name": "python3"
  },
  "language_info": {
   "codemirror_mode": {
    "name": "ipython",
    "version": 3
   },
   "file_extension": ".py",
   "mimetype": "text/x-python",
   "name": "python",
   "nbconvert_exporter": "python",
   "pygments_lexer": "ipython3",
   "version": "3.10.12"
  }
 },
 "nbformat": 4,
 "nbformat_minor": 2
}
