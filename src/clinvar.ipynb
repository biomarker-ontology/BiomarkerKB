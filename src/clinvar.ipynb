{
 "cells": [
  {
   "cell_type": "markdown",
   "metadata": {},
   "source": [
    "# ClinVar\n",
    "\n",
    "Original data was pulled from [here](https://ftp.ncbi.nlm.nih.gov/pub/clinvar/tab_delimited/variant_summary.txt.gz) (FTP link) on 2/14/24."
   ]
  },
  {
   "cell_type": "code",
   "execution_count": 1,
   "metadata": {},
   "outputs": [],
   "source": [
    "import pandas as pd\n",
    "import re \n",
    "import table_cleaning_functions as tcf"
   ]
  },
  {
   "cell_type": "markdown",
   "metadata": {},
   "source": [
    "# Preliminary Wrangling"
   ]
  },
  {
   "cell_type": "code",
   "execution_count": 2,
   "metadata": {},
   "outputs": [
    {
     "name": "stderr",
     "output_type": "stream",
     "text": [
      "/tmp/ipykernel_21951/4165182006.py:2: DtypeWarning: Columns (18) have mixed types. Specify dtype option on import or set low_memory=False.\n",
      "  clinvar_raw = pd.read_csv('../home/data/raw_data/GlyGen/clinvar_raw.txt', sep = '\\t')\n"
     ]
    },
    {
     "name": "stdout",
     "output_type": "stream",
     "text": [
      "(4807886, 40)\n"
     ]
    },
    {
     "data": {
      "text/html": [
       "<div>\n",
       "<style scoped>\n",
       "    .dataframe tbody tr th:only-of-type {\n",
       "        vertical-align: middle;\n",
       "    }\n",
       "\n",
       "    .dataframe tbody tr th {\n",
       "        vertical-align: top;\n",
       "    }\n",
       "\n",
       "    .dataframe thead th {\n",
       "        text-align: right;\n",
       "    }\n",
       "</style>\n",
       "<table border=\"1\" class=\"dataframe\">\n",
       "  <thead>\n",
       "    <tr style=\"text-align: right;\">\n",
       "      <th></th>\n",
       "      <th>#AlleleID</th>\n",
       "      <th>Type</th>\n",
       "      <th>Name</th>\n",
       "      <th>GeneID</th>\n",
       "      <th>GeneSymbol</th>\n",
       "      <th>HGNC_ID</th>\n",
       "      <th>ClinicalSignificance</th>\n",
       "      <th>ClinSigSimple</th>\n",
       "      <th>LastEvaluated</th>\n",
       "      <th>RS# (dbSNP)</th>\n",
       "      <th>...</th>\n",
       "      <th>VariationID</th>\n",
       "      <th>PositionVCF</th>\n",
       "      <th>ReferenceAlleleVCF</th>\n",
       "      <th>AlternateAlleleVCF</th>\n",
       "      <th>SomaticClinicalImpact</th>\n",
       "      <th>SomaticClinicalImpactLastEvaluated</th>\n",
       "      <th>ReviewStatusClinicalImpact</th>\n",
       "      <th>Oncogenicity</th>\n",
       "      <th>OncogenicityLastEvaluated</th>\n",
       "      <th>ReviewStatusOncogenicity</th>\n",
       "    </tr>\n",
       "  </thead>\n",
       "  <tbody>\n",
       "    <tr>\n",
       "      <th>0</th>\n",
       "      <td>15041</td>\n",
       "      <td>Indel</td>\n",
       "      <td>NM_014855.3(AP5Z1):c.80_83delinsTGCTGTAAACTGTA...</td>\n",
       "      <td>9907</td>\n",
       "      <td>AP5Z1</td>\n",
       "      <td>HGNC:22197</td>\n",
       "      <td>Pathogenic</td>\n",
       "      <td>0</td>\n",
       "      <td>-</td>\n",
       "      <td>397704705</td>\n",
       "      <td>...</td>\n",
       "      <td>2</td>\n",
       "      <td>4820844</td>\n",
       "      <td>GGAT</td>\n",
       "      <td>TGCTGTAAACTGTAACTGTAAA</td>\n",
       "      <td>-</td>\n",
       "      <td>-</td>\n",
       "      <td>-</td>\n",
       "      <td>-</td>\n",
       "      <td>-</td>\n",
       "      <td>-</td>\n",
       "    </tr>\n",
       "    <tr>\n",
       "      <th>1</th>\n",
       "      <td>15041</td>\n",
       "      <td>Indel</td>\n",
       "      <td>NM_014855.3(AP5Z1):c.80_83delinsTGCTGTAAACTGTA...</td>\n",
       "      <td>9907</td>\n",
       "      <td>AP5Z1</td>\n",
       "      <td>HGNC:22197</td>\n",
       "      <td>Pathogenic</td>\n",
       "      <td>0</td>\n",
       "      <td>-</td>\n",
       "      <td>397704705</td>\n",
       "      <td>...</td>\n",
       "      <td>2</td>\n",
       "      <td>4781213</td>\n",
       "      <td>GGAT</td>\n",
       "      <td>TGCTGTAAACTGTAACTGTAAA</td>\n",
       "      <td>-</td>\n",
       "      <td>-</td>\n",
       "      <td>-</td>\n",
       "      <td>-</td>\n",
       "      <td>-</td>\n",
       "      <td>-</td>\n",
       "    </tr>\n",
       "    <tr>\n",
       "      <th>2</th>\n",
       "      <td>15042</td>\n",
       "      <td>Deletion</td>\n",
       "      <td>NM_014855.3(AP5Z1):c.1413_1426del (p.Leu473fs)</td>\n",
       "      <td>9907</td>\n",
       "      <td>AP5Z1</td>\n",
       "      <td>HGNC:22197</td>\n",
       "      <td>Pathogenic</td>\n",
       "      <td>0</td>\n",
       "      <td>Jun 29, 2010</td>\n",
       "      <td>397704709</td>\n",
       "      <td>...</td>\n",
       "      <td>3</td>\n",
       "      <td>4827360</td>\n",
       "      <td>GCTGCTGGACCTGCC</td>\n",
       "      <td>G</td>\n",
       "      <td>-</td>\n",
       "      <td>-</td>\n",
       "      <td>-</td>\n",
       "      <td>-</td>\n",
       "      <td>-</td>\n",
       "      <td>-</td>\n",
       "    </tr>\n",
       "    <tr>\n",
       "      <th>3</th>\n",
       "      <td>15042</td>\n",
       "      <td>Deletion</td>\n",
       "      <td>NM_014855.3(AP5Z1):c.1413_1426del (p.Leu473fs)</td>\n",
       "      <td>9907</td>\n",
       "      <td>AP5Z1</td>\n",
       "      <td>HGNC:22197</td>\n",
       "      <td>Pathogenic</td>\n",
       "      <td>0</td>\n",
       "      <td>Jun 29, 2010</td>\n",
       "      <td>397704709</td>\n",
       "      <td>...</td>\n",
       "      <td>3</td>\n",
       "      <td>4787729</td>\n",
       "      <td>GCTGCTGGACCTGCC</td>\n",
       "      <td>G</td>\n",
       "      <td>-</td>\n",
       "      <td>-</td>\n",
       "      <td>-</td>\n",
       "      <td>-</td>\n",
       "      <td>-</td>\n",
       "      <td>-</td>\n",
       "    </tr>\n",
       "    <tr>\n",
       "      <th>4</th>\n",
       "      <td>15043</td>\n",
       "      <td>single nucleotide variant</td>\n",
       "      <td>NM_014630.3(ZNF592):c.3136G&gt;A (p.Gly1046Arg)</td>\n",
       "      <td>9640</td>\n",
       "      <td>ZNF592</td>\n",
       "      <td>HGNC:28986</td>\n",
       "      <td>Uncertain significance</td>\n",
       "      <td>0</td>\n",
       "      <td>Jun 29, 2015</td>\n",
       "      <td>150829393</td>\n",
       "      <td>...</td>\n",
       "      <td>4</td>\n",
       "      <td>85342440</td>\n",
       "      <td>G</td>\n",
       "      <td>A</td>\n",
       "      <td>-</td>\n",
       "      <td>-</td>\n",
       "      <td>-</td>\n",
       "      <td>-</td>\n",
       "      <td>-</td>\n",
       "      <td>-</td>\n",
       "    </tr>\n",
       "  </tbody>\n",
       "</table>\n",
       "<p>5 rows × 40 columns</p>\n",
       "</div>"
      ],
      "text/plain": [
       "   #AlleleID                       Type  \\\n",
       "0      15041                      Indel   \n",
       "1      15041                      Indel   \n",
       "2      15042                   Deletion   \n",
       "3      15042                   Deletion   \n",
       "4      15043  single nucleotide variant   \n",
       "\n",
       "                                                Name  GeneID GeneSymbol  \\\n",
       "0  NM_014855.3(AP5Z1):c.80_83delinsTGCTGTAAACTGTA...    9907      AP5Z1   \n",
       "1  NM_014855.3(AP5Z1):c.80_83delinsTGCTGTAAACTGTA...    9907      AP5Z1   \n",
       "2     NM_014855.3(AP5Z1):c.1413_1426del (p.Leu473fs)    9907      AP5Z1   \n",
       "3     NM_014855.3(AP5Z1):c.1413_1426del (p.Leu473fs)    9907      AP5Z1   \n",
       "4       NM_014630.3(ZNF592):c.3136G>A (p.Gly1046Arg)    9640     ZNF592   \n",
       "\n",
       "      HGNC_ID    ClinicalSignificance  ClinSigSimple LastEvaluated  \\\n",
       "0  HGNC:22197              Pathogenic              0             -   \n",
       "1  HGNC:22197              Pathogenic              0             -   \n",
       "2  HGNC:22197              Pathogenic              0  Jun 29, 2010   \n",
       "3  HGNC:22197              Pathogenic              0  Jun 29, 2010   \n",
       "4  HGNC:28986  Uncertain significance              0  Jun 29, 2015   \n",
       "\n",
       "   RS# (dbSNP)  ... VariationID PositionVCF ReferenceAlleleVCF  \\\n",
       "0    397704705  ...           2     4820844               GGAT   \n",
       "1    397704705  ...           2     4781213               GGAT   \n",
       "2    397704709  ...           3     4827360    GCTGCTGGACCTGCC   \n",
       "3    397704709  ...           3     4787729    GCTGCTGGACCTGCC   \n",
       "4    150829393  ...           4    85342440                  G   \n",
       "\n",
       "       AlternateAlleleVCF SomaticClinicalImpact  \\\n",
       "0  TGCTGTAAACTGTAACTGTAAA                     -   \n",
       "1  TGCTGTAAACTGTAACTGTAAA                     -   \n",
       "2                       G                     -   \n",
       "3                       G                     -   \n",
       "4                       A                     -   \n",
       "\n",
       "  SomaticClinicalImpactLastEvaluated ReviewStatusClinicalImpact Oncogenicity  \\\n",
       "0                                  -                          -            -   \n",
       "1                                  -                          -            -   \n",
       "2                                  -                          -            -   \n",
       "3                                  -                          -            -   \n",
       "4                                  -                          -            -   \n",
       "\n",
       "  OncogenicityLastEvaluated  ReviewStatusOncogenicity  \n",
       "0                         -                         -  \n",
       "1                         -                         -  \n",
       "2                         -                         -  \n",
       "3                         -                         -  \n",
       "4                         -                         -  \n",
       "\n",
       "[5 rows x 40 columns]"
      ]
     },
     "execution_count": 2,
     "metadata": {},
     "output_type": "execute_result"
    }
   ],
   "source": [
    "# read in raw clinvar data \n",
    "clinvar_raw = pd.read_csv('../home/data/raw_data/GlyGen/clinvar_raw.txt', sep = '\\t')\n",
    "print(clinvar_raw.shape)\n",
    "clinvar_raw.head()"
   ]
  },
  {
   "cell_type": "code",
   "execution_count": 3,
   "metadata": {},
   "outputs": [
    {
     "data": {
      "text/plain": [
       "#AlleleID                             0\n",
       "Type                                  0\n",
       "Name                                  0\n",
       "GeneID                                0\n",
       "GeneSymbol                            0\n",
       "HGNC_ID                               0\n",
       "ClinicalSignificance                  0\n",
       "ClinSigSimple                         0\n",
       "LastEvaluated                         0\n",
       "RS# (dbSNP)                           0\n",
       "nsv/esv (dbVar)                       0\n",
       "RCVaccession                          0\n",
       "PhenotypeIDS                          0\n",
       "PhenotypeList                         0\n",
       "Origin                                0\n",
       "OriginSimple                          0\n",
       "Assembly                              0\n",
       "ChromosomeAccession                   0\n",
       "Chromosome                            0\n",
       "Start                                 0\n",
       "Stop                                  0\n",
       "ReferenceAllele                       0\n",
       "AlternateAllele                       0\n",
       "Cytogenetic                           0\n",
       "ReviewStatus                          0\n",
       "NumberSubmitters                      0\n",
       "Guidelines                            0\n",
       "TestedInGTR                           0\n",
       "OtherIDs                              0\n",
       "SubmitterCategories                   0\n",
       "VariationID                           0\n",
       "PositionVCF                           0\n",
       "ReferenceAlleleVCF                    0\n",
       "AlternateAlleleVCF                    0\n",
       "SomaticClinicalImpact                 0\n",
       "SomaticClinicalImpactLastEvaluated    0\n",
       "ReviewStatusClinicalImpact            0\n",
       "Oncogenicity                          0\n",
       "OncogenicityLastEvaluated             0\n",
       "ReviewStatusOncogenicity              0\n",
       "dtype: int64"
      ]
     },
     "execution_count": 3,
     "metadata": {},
     "output_type": "execute_result"
    }
   ],
   "source": [
    "clinvar_raw.isnull().sum()"
   ]
  },
  {
   "cell_type": "markdown",
   "metadata": {},
   "source": [
    "Drop unnecessary rows."
   ]
  },
  {
   "cell_type": "code",
   "execution_count": 4,
   "metadata": {},
   "outputs": [
    {
     "data": {
      "text/plain": [
       "Index(['#AlleleID', 'Type', 'Name', 'GeneID', 'GeneSymbol', 'HGNC_ID',\n",
       "       'ClinicalSignificance', 'ClinSigSimple', 'LastEvaluated', 'RS# (dbSNP)',\n",
       "       'nsv/esv (dbVar)', 'RCVaccession', 'PhenotypeIDS', 'PhenotypeList',\n",
       "       'Origin', 'OriginSimple', 'Assembly', 'ChromosomeAccession',\n",
       "       'Chromosome', 'Start', 'Stop', 'ReferenceAllele', 'AlternateAllele',\n",
       "       'Cytogenetic', 'ReviewStatus', 'NumberSubmitters', 'Guidelines',\n",
       "       'TestedInGTR', 'OtherIDs', 'SubmitterCategories', 'VariationID',\n",
       "       'PositionVCF', 'ReferenceAlleleVCF', 'AlternateAlleleVCF',\n",
       "       'SomaticClinicalImpact', 'SomaticClinicalImpactLastEvaluated',\n",
       "       'ReviewStatusClinicalImpact', 'Oncogenicity',\n",
       "       'OncogenicityLastEvaluated', 'ReviewStatusOncogenicity'],\n",
       "      dtype='object')"
      ]
     },
     "execution_count": 4,
     "metadata": {},
     "output_type": "execute_result"
    }
   ],
   "source": [
    "clinvar_raw.columns"
   ]
  },
  {
   "cell_type": "code",
   "execution_count": 5,
   "metadata": {},
   "outputs": [
    {
     "data": {
      "text/plain": [
       "['#AlleleID',\n",
       " 'Type',\n",
       " 'Name',\n",
       " 'GeneID',\n",
       " 'GeneSymbol',\n",
       " 'HGNC_ID',\n",
       " 'ClinicalSignificance',\n",
       " 'ClinSigSimple',\n",
       " 'LastEvaluated',\n",
       " 'RS# (dbSNP)',\n",
       " 'nsv/esv (dbVar)',\n",
       " 'RCVaccession',\n",
       " 'PhenotypeIDS',\n",
       " 'PhenotypeList',\n",
       " 'Origin',\n",
       " 'OriginSimple',\n",
       " 'Assembly',\n",
       " 'ChromosomeAccession',\n",
       " 'Chromosome',\n",
       " 'Start',\n",
       " 'Stop',\n",
       " 'ReferenceAllele',\n",
       " 'AlternateAllele',\n",
       " 'Cytogenetic',\n",
       " 'ReviewStatus',\n",
       " 'NumberSubmitters',\n",
       " 'Guidelines',\n",
       " 'TestedInGTR',\n",
       " 'OtherIDs',\n",
       " 'SubmitterCategories',\n",
       " 'VariationID',\n",
       " 'PositionVCF',\n",
       " 'ReferenceAlleleVCF',\n",
       " 'AlternateAlleleVCF',\n",
       " 'SomaticClinicalImpact',\n",
       " 'SomaticClinicalImpactLastEvaluated',\n",
       " 'ReviewStatusClinicalImpact',\n",
       " 'Oncogenicity',\n",
       " 'OncogenicityLastEvaluated',\n",
       " 'ReviewStatusOncogenicity']"
      ]
     },
     "execution_count": 5,
     "metadata": {},
     "output_type": "execute_result"
    }
   ],
   "source": [
    "cols = list(clinvar_raw.columns)\n",
    "cols"
   ]
  },
  {
   "cell_type": "code",
   "execution_count": 7,
   "metadata": {},
   "outputs": [
    {
     "data": {
      "text/html": [
       "<div>\n",
       "<style scoped>\n",
       "    .dataframe tbody tr th:only-of-type {\n",
       "        vertical-align: middle;\n",
       "    }\n",
       "\n",
       "    .dataframe tbody tr th {\n",
       "        vertical-align: top;\n",
       "    }\n",
       "\n",
       "    .dataframe thead th {\n",
       "        text-align: right;\n",
       "    }\n",
       "</style>\n",
       "<table border=\"1\" class=\"dataframe\">\n",
       "  <thead>\n",
       "    <tr style=\"text-align: right;\">\n",
       "      <th></th>\n",
       "      <th>GeneSymbol</th>\n",
       "      <th>RS# (dbSNP)</th>\n",
       "      <th>PhenotypeList</th>\n",
       "      <th>VariationID</th>\n",
       "    </tr>\n",
       "  </thead>\n",
       "  <tbody>\n",
       "    <tr>\n",
       "      <th>0</th>\n",
       "      <td>AP5Z1</td>\n",
       "      <td>397704705</td>\n",
       "      <td>Hereditary spastic paraplegia 48</td>\n",
       "      <td>2</td>\n",
       "    </tr>\n",
       "    <tr>\n",
       "      <th>1</th>\n",
       "      <td>AP5Z1</td>\n",
       "      <td>397704705</td>\n",
       "      <td>Hereditary spastic paraplegia 48</td>\n",
       "      <td>2</td>\n",
       "    </tr>\n",
       "    <tr>\n",
       "      <th>2</th>\n",
       "      <td>AP5Z1</td>\n",
       "      <td>397704709</td>\n",
       "      <td>Hereditary spastic paraplegia 48</td>\n",
       "      <td>3</td>\n",
       "    </tr>\n",
       "    <tr>\n",
       "      <th>3</th>\n",
       "      <td>AP5Z1</td>\n",
       "      <td>397704709</td>\n",
       "      <td>Hereditary spastic paraplegia 48</td>\n",
       "      <td>3</td>\n",
       "    </tr>\n",
       "    <tr>\n",
       "      <th>4</th>\n",
       "      <td>ZNF592</td>\n",
       "      <td>150829393</td>\n",
       "      <td>Galloway-Mowat syndrome 1</td>\n",
       "      <td>4</td>\n",
       "    </tr>\n",
       "  </tbody>\n",
       "</table>\n",
       "</div>"
      ],
      "text/plain": [
       "  GeneSymbol  RS# (dbSNP)                     PhenotypeList  VariationID\n",
       "0      AP5Z1    397704705  Hereditary spastic paraplegia 48            2\n",
       "1      AP5Z1    397704705  Hereditary spastic paraplegia 48            2\n",
       "2      AP5Z1    397704709  Hereditary spastic paraplegia 48            3\n",
       "3      AP5Z1    397704709  Hereditary spastic paraplegia 48            3\n",
       "4     ZNF592    150829393         Galloway-Mowat syndrome 1            4"
      ]
     },
     "execution_count": 7,
     "metadata": {},
     "output_type": "execute_result"
    }
   ],
   "source": [
    "drop_cols = [x for x in cols if x not in {'GeneSymbol', 'RS# (dbSNP)', 'PhenotypeList', 'VariationID'}]\n",
    "clinvar_raw = clinvar_raw.drop(columns = drop_cols)\n",
    "clinvar_raw.head()"
   ]
  },
  {
   "cell_type": "markdown",
   "metadata": {},
   "source": [
    "Only interested in cancer related rows right now, filter on cancer related conditions."
   ]
  },
  {
   "cell_type": "code",
   "execution_count": 8,
   "metadata": {},
   "outputs": [
    {
     "name": "stdout",
     "output_type": "stream",
     "text": [
      "(422117, 4)\n"
     ]
    },
    {
     "data": {
      "text/html": [
       "<div>\n",
       "<style scoped>\n",
       "    .dataframe tbody tr th:only-of-type {\n",
       "        vertical-align: middle;\n",
       "    }\n",
       "\n",
       "    .dataframe tbody tr th {\n",
       "        vertical-align: top;\n",
       "    }\n",
       "\n",
       "    .dataframe thead th {\n",
       "        text-align: right;\n",
       "    }\n",
       "</style>\n",
       "<table border=\"1\" class=\"dataframe\">\n",
       "  <thead>\n",
       "    <tr style=\"text-align: right;\">\n",
       "      <th></th>\n",
       "      <th>GeneSymbol</th>\n",
       "      <th>RS# (dbSNP)</th>\n",
       "      <th>PhenotypeList</th>\n",
       "      <th>VariationID</th>\n",
       "    </tr>\n",
       "  </thead>\n",
       "  <tbody>\n",
       "    <tr>\n",
       "      <th>12</th>\n",
       "      <td>HFE</td>\n",
       "      <td>1800562</td>\n",
       "      <td>Hemochromatosis type 1|Hereditary cancer-predi...</td>\n",
       "      <td>9</td>\n",
       "    </tr>\n",
       "    <tr>\n",
       "      <th>13</th>\n",
       "      <td>HFE</td>\n",
       "      <td>1800562</td>\n",
       "      <td>Hemochromatosis type 1|Hereditary cancer-predi...</td>\n",
       "      <td>9</td>\n",
       "    </tr>\n",
       "    <tr>\n",
       "      <th>206</th>\n",
       "      <td>TMEM127</td>\n",
       "      <td>121908830</td>\n",
       "      <td>Pheochromocytoma, susceptibility to|Pheochromo...</td>\n",
       "      <td>108</td>\n",
       "    </tr>\n",
       "    <tr>\n",
       "      <th>207</th>\n",
       "      <td>TMEM127</td>\n",
       "      <td>121908830</td>\n",
       "      <td>Pheochromocytoma, susceptibility to|Pheochromo...</td>\n",
       "      <td>108</td>\n",
       "    </tr>\n",
       "    <tr>\n",
       "      <th>528</th>\n",
       "      <td>KLHDC8B</td>\n",
       "      <td>387906223</td>\n",
       "      <td>Classic Hodgkin lymphoma</td>\n",
       "      <td>273</td>\n",
       "    </tr>\n",
       "  </tbody>\n",
       "</table>\n",
       "</div>"
      ],
      "text/plain": [
       "    GeneSymbol  RS# (dbSNP)  \\\n",
       "12         HFE      1800562   \n",
       "13         HFE      1800562   \n",
       "206    TMEM127    121908830   \n",
       "207    TMEM127    121908830   \n",
       "528    KLHDC8B    387906223   \n",
       "\n",
       "                                         PhenotypeList  VariationID  \n",
       "12   Hemochromatosis type 1|Hereditary cancer-predi...            9  \n",
       "13   Hemochromatosis type 1|Hereditary cancer-predi...            9  \n",
       "206  Pheochromocytoma, susceptibility to|Pheochromo...          108  \n",
       "207  Pheochromocytoma, susceptibility to|Pheochromo...          108  \n",
       "528                           Classic Hodgkin lymphoma          273  "
      ]
     },
     "execution_count": 8,
     "metadata": {},
     "output_type": "execute_result"
    }
   ],
   "source": [
    "cancer_related = ['cancer', 'carcinoma', 'leukemia', 'tumor', 'malignancy', 'glioblastoma',\n",
    "                'melanoma', 'lymphoma', 'sarcoma']\n",
    "\n",
    "clinvar_raw = clinvar_raw[clinvar_raw['PhenotypeList'].str.contains('|'.join(cancer_related), case = False, na = False)]  \n",
    "print(clinvar_raw.shape)\n",
    "clinvar_raw.head()"
   ]
  },
  {
   "cell_type": "code",
   "execution_count": 9,
   "metadata": {},
   "outputs": [
    {
     "data": {
      "text/plain": [
       "GeneSymbol       0\n",
       "RS# (dbSNP)      0\n",
       "PhenotypeList    0\n",
       "VariationID      0\n",
       "dtype: int64"
      ]
     },
     "execution_count": 9,
     "metadata": {},
     "output_type": "execute_result"
    }
   ],
   "source": [
    "clinvar_raw.isnull().sum()"
   ]
  },
  {
   "cell_type": "markdown",
   "metadata": {},
   "source": [
    "Re-format rs ID column."
   ]
  },
  {
   "cell_type": "code",
   "execution_count": 10,
   "metadata": {},
   "outputs": [
    {
     "data": {
      "text/plain": [
       "12           rs1800562\n",
       "13           rs1800562\n",
       "206        rs121908830\n",
       "207        rs121908830\n",
       "528        rs387906223\n",
       "              ...     \n",
       "4807791           rs-1\n",
       "4807792           rs-1\n",
       "4807793           rs-1\n",
       "4807794           rs-1\n",
       "4807795           rs-1\n",
       "Name: RS# (dbSNP), Length: 422117, dtype: object"
      ]
     },
     "execution_count": 10,
     "metadata": {},
     "output_type": "execute_result"
    }
   ],
   "source": [
    "clinvar_raw['RS# (dbSNP)'] = 'rs' + clinvar_raw['RS# (dbSNP)'].astype(str)\n",
    "clinvar_raw['RS# (dbSNP)']"
   ]
  },
  {
   "cell_type": "code",
   "execution_count": 12,
   "metadata": {},
   "outputs": [
    {
     "data": {
      "text/html": [
       "<div>\n",
       "<style scoped>\n",
       "    .dataframe tbody tr th:only-of-type {\n",
       "        vertical-align: middle;\n",
       "    }\n",
       "\n",
       "    .dataframe tbody tr th {\n",
       "        vertical-align: top;\n",
       "    }\n",
       "\n",
       "    .dataframe thead th {\n",
       "        text-align: right;\n",
       "    }\n",
       "</style>\n",
       "<table border=\"1\" class=\"dataframe\">\n",
       "  <thead>\n",
       "    <tr style=\"text-align: right;\">\n",
       "      <th></th>\n",
       "      <th>GeneSymbol</th>\n",
       "      <th>RS# (dbSNP)</th>\n",
       "      <th>PhenotypeList</th>\n",
       "      <th>VariationID</th>\n",
       "    </tr>\n",
       "  </thead>\n",
       "  <tbody>\n",
       "    <tr>\n",
       "      <th>673</th>\n",
       "      <td>NF1</td>\n",
       "      <td>rs-1</td>\n",
       "      <td>Juvenile myelomonocytic leukemia</td>\n",
       "      <td>351</td>\n",
       "    </tr>\n",
       "    <tr>\n",
       "      <th>1583</th>\n",
       "      <td>APC</td>\n",
       "      <td>rs-1</td>\n",
       "      <td>Desmoid tumor caused by somatic mutation</td>\n",
       "      <td>838</td>\n",
       "    </tr>\n",
       "    <tr>\n",
       "      <th>2999</th>\n",
       "      <td>RSPO1</td>\n",
       "      <td>rs-1</td>\n",
       "      <td>Palmoplantar keratoderma-XX sex reversal-predi...</td>\n",
       "      <td>1604</td>\n",
       "    </tr>\n",
       "    <tr>\n",
       "      <th>3000</th>\n",
       "      <td>RSPO1</td>\n",
       "      <td>rs-1</td>\n",
       "      <td>Palmoplantar keratoderma-XX sex reversal-predi...</td>\n",
       "      <td>1604</td>\n",
       "    </tr>\n",
       "    <tr>\n",
       "      <th>6007</th>\n",
       "      <td>CDC73</td>\n",
       "      <td>rs-1</td>\n",
       "      <td>Hyperparathyroidism 2 with jaw tumors</td>\n",
       "      <td>3269</td>\n",
       "    </tr>\n",
       "    <tr>\n",
       "      <th>...</th>\n",
       "      <td>...</td>\n",
       "      <td>...</td>\n",
       "      <td>...</td>\n",
       "      <td>...</td>\n",
       "    </tr>\n",
       "    <tr>\n",
       "      <th>4807791</th>\n",
       "      <td>TP53</td>\n",
       "      <td>rs-1</td>\n",
       "      <td>Prostate cancer, hereditary, 1</td>\n",
       "      <td>2687727</td>\n",
       "    </tr>\n",
       "    <tr>\n",
       "      <th>4807792</th>\n",
       "      <td>TP53</td>\n",
       "      <td>rs-1</td>\n",
       "      <td>Prostate cancer, hereditary, 1</td>\n",
       "      <td>2687728</td>\n",
       "    </tr>\n",
       "    <tr>\n",
       "      <th>4807793</th>\n",
       "      <td>TP53</td>\n",
       "      <td>rs-1</td>\n",
       "      <td>Prostate cancer, hereditary, 1</td>\n",
       "      <td>2687728</td>\n",
       "    </tr>\n",
       "    <tr>\n",
       "      <th>4807794</th>\n",
       "      <td>TP53</td>\n",
       "      <td>rs-1</td>\n",
       "      <td>Prostate cancer, hereditary, 1</td>\n",
       "      <td>2687729</td>\n",
       "    </tr>\n",
       "    <tr>\n",
       "      <th>4807795</th>\n",
       "      <td>TP53</td>\n",
       "      <td>rs-1</td>\n",
       "      <td>Prostate cancer, hereditary, 1</td>\n",
       "      <td>2687729</td>\n",
       "    </tr>\n",
       "  </tbody>\n",
       "</table>\n",
       "<p>107731 rows × 4 columns</p>\n",
       "</div>"
      ],
      "text/plain": [
       "        GeneSymbol RS# (dbSNP)  \\\n",
       "673            NF1        rs-1   \n",
       "1583           APC        rs-1   \n",
       "2999         RSPO1        rs-1   \n",
       "3000         RSPO1        rs-1   \n",
       "6007         CDC73        rs-1   \n",
       "...            ...         ...   \n",
       "4807791       TP53        rs-1   \n",
       "4807792       TP53        rs-1   \n",
       "4807793       TP53        rs-1   \n",
       "4807794       TP53        rs-1   \n",
       "4807795       TP53        rs-1   \n",
       "\n",
       "                                             PhenotypeList  VariationID  \n",
       "673                       Juvenile myelomonocytic leukemia          351  \n",
       "1583              Desmoid tumor caused by somatic mutation          838  \n",
       "2999     Palmoplantar keratoderma-XX sex reversal-predi...         1604  \n",
       "3000     Palmoplantar keratoderma-XX sex reversal-predi...         1604  \n",
       "6007                 Hyperparathyroidism 2 with jaw tumors         3269  \n",
       "...                                                    ...          ...  \n",
       "4807791                     Prostate cancer, hereditary, 1      2687727  \n",
       "4807792                     Prostate cancer, hereditary, 1      2687728  \n",
       "4807793                     Prostate cancer, hereditary, 1      2687728  \n",
       "4807794                     Prostate cancer, hereditary, 1      2687729  \n",
       "4807795                     Prostate cancer, hereditary, 1      2687729  \n",
       "\n",
       "[107731 rows x 4 columns]"
      ]
     },
     "execution_count": 12,
     "metadata": {},
     "output_type": "execute_result"
    }
   ],
   "source": [
    "clinvar_raw[clinvar_raw['RS# (dbSNP)'].str.contains('-1')]"
   ]
  },
  {
   "cell_type": "code",
   "execution_count": 13,
   "metadata": {},
   "outputs": [
    {
     "name": "stdout",
     "output_type": "stream",
     "text": [
      "(314386, 4)\n"
     ]
    },
    {
     "data": {
      "text/plain": [
       "RS# (dbSNP)\n",
       "rs11309117      30\n",
       "rs144131869     26\n",
       "rs5901000       24\n",
       "rs763704682     22\n",
       "rs34003473      14\n",
       "                ..\n",
       "rs2072259508     1\n",
       "rs2137537139     1\n",
       "rs1281724812     1\n",
       "rs2137567485     1\n",
       "rs45445694       1\n",
       "Name: count, Length: 129423, dtype: int64"
      ]
     },
     "execution_count": 13,
     "metadata": {},
     "output_type": "execute_result"
    }
   ],
   "source": [
    "clinvar_raw = clinvar_raw[~clinvar_raw['RS# (dbSNP)'].str.contains('-1')]\n",
    "print(clinvar_raw.shape)\n",
    "clinvar_raw['RS# (dbSNP)'].value_counts()"
   ]
  },
  {
   "cell_type": "markdown",
   "metadata": {},
   "source": [
    "Rename columns. "
   ]
  },
  {
   "cell_type": "code",
   "execution_count": 14,
   "metadata": {},
   "outputs": [
    {
     "data": {
      "text/html": [
       "<div>\n",
       "<style scoped>\n",
       "    .dataframe tbody tr th:only-of-type {\n",
       "        vertical-align: middle;\n",
       "    }\n",
       "\n",
       "    .dataframe tbody tr th {\n",
       "        vertical-align: top;\n",
       "    }\n",
       "\n",
       "    .dataframe thead th {\n",
       "        text-align: right;\n",
       "    }\n",
       "</style>\n",
       "<table border=\"1\" class=\"dataframe\">\n",
       "  <thead>\n",
       "    <tr style=\"text-align: right;\">\n",
       "      <th></th>\n",
       "      <th>Gene</th>\n",
       "      <th>rs_id</th>\n",
       "      <th>disease</th>\n",
       "      <th>variation_id</th>\n",
       "    </tr>\n",
       "  </thead>\n",
       "  <tbody>\n",
       "    <tr>\n",
       "      <th>12</th>\n",
       "      <td>HFE</td>\n",
       "      <td>rs1800562</td>\n",
       "      <td>Hemochromatosis type 1|Hereditary cancer-predi...</td>\n",
       "      <td>9</td>\n",
       "    </tr>\n",
       "    <tr>\n",
       "      <th>13</th>\n",
       "      <td>HFE</td>\n",
       "      <td>rs1800562</td>\n",
       "      <td>Hemochromatosis type 1|Hereditary cancer-predi...</td>\n",
       "      <td>9</td>\n",
       "    </tr>\n",
       "    <tr>\n",
       "      <th>206</th>\n",
       "      <td>TMEM127</td>\n",
       "      <td>rs121908830</td>\n",
       "      <td>Pheochromocytoma, susceptibility to|Pheochromo...</td>\n",
       "      <td>108</td>\n",
       "    </tr>\n",
       "    <tr>\n",
       "      <th>207</th>\n",
       "      <td>TMEM127</td>\n",
       "      <td>rs121908830</td>\n",
       "      <td>Pheochromocytoma, susceptibility to|Pheochromo...</td>\n",
       "      <td>108</td>\n",
       "    </tr>\n",
       "    <tr>\n",
       "      <th>528</th>\n",
       "      <td>KLHDC8B</td>\n",
       "      <td>rs387906223</td>\n",
       "      <td>Classic Hodgkin lymphoma</td>\n",
       "      <td>273</td>\n",
       "    </tr>\n",
       "  </tbody>\n",
       "</table>\n",
       "</div>"
      ],
      "text/plain": [
       "        Gene        rs_id                                            disease  \\\n",
       "12       HFE    rs1800562  Hemochromatosis type 1|Hereditary cancer-predi...   \n",
       "13       HFE    rs1800562  Hemochromatosis type 1|Hereditary cancer-predi...   \n",
       "206  TMEM127  rs121908830  Pheochromocytoma, susceptibility to|Pheochromo...   \n",
       "207  TMEM127  rs121908830  Pheochromocytoma, susceptibility to|Pheochromo...   \n",
       "528  KLHDC8B  rs387906223                           Classic Hodgkin lymphoma   \n",
       "\n",
       "     variation_id  \n",
       "12              9  \n",
       "13              9  \n",
       "206           108  \n",
       "207           108  \n",
       "528           273  "
      ]
     },
     "execution_count": 14,
     "metadata": {},
     "output_type": "execute_result"
    }
   ],
   "source": [
    "cols = ['Gene', 'rs_id', 'disease', 'variation_id']\n",
    "clinvar_raw.columns = cols\n",
    "clinvar_raw.head()"
   ]
  },
  {
   "cell_type": "markdown",
   "metadata": {},
   "source": [
    "Normalize condition values before isolating."
   ]
  },
  {
   "cell_type": "code",
   "execution_count": 24,
   "metadata": {},
   "outputs": [
    {
     "data": {
      "text/html": [
       "<div>\n",
       "<style scoped>\n",
       "    .dataframe tbody tr th:only-of-type {\n",
       "        vertical-align: middle;\n",
       "    }\n",
       "\n",
       "    .dataframe tbody tr th {\n",
       "        vertical-align: top;\n",
       "    }\n",
       "\n",
       "    .dataframe thead th {\n",
       "        text-align: right;\n",
       "    }\n",
       "</style>\n",
       "<table border=\"1\" class=\"dataframe\">\n",
       "  <thead>\n",
       "    <tr style=\"text-align: right;\">\n",
       "      <th></th>\n",
       "      <th>Gene</th>\n",
       "      <th>rs_id</th>\n",
       "      <th>disease</th>\n",
       "      <th>variation_id</th>\n",
       "    </tr>\n",
       "  </thead>\n",
       "  <tbody>\n",
       "    <tr>\n",
       "      <th>12</th>\n",
       "      <td>HFE</td>\n",
       "      <td>rs1800562</td>\n",
       "      <td>hemochromatosis type 1|hereditary cancer-predi...</td>\n",
       "      <td>9</td>\n",
       "    </tr>\n",
       "    <tr>\n",
       "      <th>13</th>\n",
       "      <td>HFE</td>\n",
       "      <td>rs1800562</td>\n",
       "      <td>hemochromatosis type 1|hereditary cancer-predi...</td>\n",
       "      <td>9</td>\n",
       "    </tr>\n",
       "    <tr>\n",
       "      <th>206</th>\n",
       "      <td>TMEM127</td>\n",
       "      <td>rs121908830</td>\n",
       "      <td>pheochromocytoma, susceptibility to|pheochromo...</td>\n",
       "      <td>108</td>\n",
       "    </tr>\n",
       "    <tr>\n",
       "      <th>207</th>\n",
       "      <td>TMEM127</td>\n",
       "      <td>rs121908830</td>\n",
       "      <td>pheochromocytoma, susceptibility to|pheochromo...</td>\n",
       "      <td>108</td>\n",
       "    </tr>\n",
       "    <tr>\n",
       "      <th>528</th>\n",
       "      <td>KLHDC8B</td>\n",
       "      <td>rs387906223</td>\n",
       "      <td>classic hodgkin lymphoma</td>\n",
       "      <td>273</td>\n",
       "    </tr>\n",
       "  </tbody>\n",
       "</table>\n",
       "</div>"
      ],
      "text/plain": [
       "        Gene        rs_id                                            disease  \\\n",
       "12       HFE    rs1800562  hemochromatosis type 1|hereditary cancer-predi...   \n",
       "13       HFE    rs1800562  hemochromatosis type 1|hereditary cancer-predi...   \n",
       "206  TMEM127  rs121908830  pheochromocytoma, susceptibility to|pheochromo...   \n",
       "207  TMEM127  rs121908830  pheochromocytoma, susceptibility to|pheochromo...   \n",
       "528  KLHDC8B  rs387906223                           classic hodgkin lymphoma   \n",
       "\n",
       "     variation_id  \n",
       "12              9  \n",
       "13              9  \n",
       "206           108  \n",
       "207           108  \n",
       "528           273  "
      ]
     },
     "execution_count": 24,
     "metadata": {},
     "output_type": "execute_result"
    }
   ],
   "source": [
    "clinvar_raw['disease'] = clinvar_raw['disease'].str.lower().str.strip()\n",
    "clinvar_raw.head()"
   ]
  },
  {
   "cell_type": "markdown",
   "metadata": {},
   "source": [
    "Isolate condition data for cleaning. "
   ]
  },
  {
   "cell_type": "code",
   "execution_count": 25,
   "metadata": {},
   "outputs": [],
   "source": [
    "conditions = clinvar_raw['disease']\n",
    "conditions = conditions.drop_duplicates()\n",
    "# conditions.to_csv('../home/data/processed_data/GlyGen/clinvar/clinvar_conditions.tsv', sep = '\\t', index = False)"
   ]
  },
  {
   "cell_type": "code",
   "execution_count": 26,
   "metadata": {},
   "outputs": [
    {
     "data": {
      "text/plain": [
       "(17504,)"
      ]
     },
     "execution_count": 26,
     "metadata": {},
     "output_type": "execute_result"
    }
   ],
   "source": [
    "conditions.shape"
   ]
  },
  {
   "cell_type": "markdown",
   "metadata": {},
   "source": [
    "Save processed data and isolate conditions to clean manually. "
   ]
  },
  {
   "cell_type": "code",
   "execution_count": 17,
   "metadata": {},
   "outputs": [],
   "source": [
    "clinvar_raw.to_csv('../home/data/processed_data/GlyGen/clinvar/clinvar_processed.tsv', sep = '\\t', index = False)"
   ]
  },
  {
   "cell_type": "markdown",
   "metadata": {},
   "source": [
    "# Secondary Wrangling"
   ]
  },
  {
   "cell_type": "code",
   "execution_count": 18,
   "metadata": {},
   "outputs": [
    {
     "data": {
      "text/html": [
       "<div>\n",
       "<style scoped>\n",
       "    .dataframe tbody tr th:only-of-type {\n",
       "        vertical-align: middle;\n",
       "    }\n",
       "\n",
       "    .dataframe tbody tr th {\n",
       "        vertical-align: top;\n",
       "    }\n",
       "\n",
       "    .dataframe thead th {\n",
       "        text-align: right;\n",
       "    }\n",
       "</style>\n",
       "<table border=\"1\" class=\"dataframe\">\n",
       "  <thead>\n",
       "    <tr style=\"text-align: right;\">\n",
       "      <th></th>\n",
       "      <th>Gene</th>\n",
       "      <th>rs_id</th>\n",
       "      <th>disease</th>\n",
       "      <th>variation_id</th>\n",
       "    </tr>\n",
       "  </thead>\n",
       "  <tbody>\n",
       "    <tr>\n",
       "      <th>0</th>\n",
       "      <td>HFE</td>\n",
       "      <td>rs1800562</td>\n",
       "      <td>Hemochromatosis type 1|Hereditary cancer-predi...</td>\n",
       "      <td>9</td>\n",
       "    </tr>\n",
       "    <tr>\n",
       "      <th>1</th>\n",
       "      <td>HFE</td>\n",
       "      <td>rs1800562</td>\n",
       "      <td>Hemochromatosis type 1|Hereditary cancer-predi...</td>\n",
       "      <td>9</td>\n",
       "    </tr>\n",
       "    <tr>\n",
       "      <th>2</th>\n",
       "      <td>TMEM127</td>\n",
       "      <td>rs121908830</td>\n",
       "      <td>Pheochromocytoma, susceptibility to|Pheochromo...</td>\n",
       "      <td>108</td>\n",
       "    </tr>\n",
       "    <tr>\n",
       "      <th>3</th>\n",
       "      <td>TMEM127</td>\n",
       "      <td>rs121908830</td>\n",
       "      <td>Pheochromocytoma, susceptibility to|Pheochromo...</td>\n",
       "      <td>108</td>\n",
       "    </tr>\n",
       "    <tr>\n",
       "      <th>4</th>\n",
       "      <td>KLHDC8B</td>\n",
       "      <td>rs387906223</td>\n",
       "      <td>Classic Hodgkin lymphoma</td>\n",
       "      <td>273</td>\n",
       "    </tr>\n",
       "  </tbody>\n",
       "</table>\n",
       "</div>"
      ],
      "text/plain": [
       "      Gene        rs_id                                            disease  \\\n",
       "0      HFE    rs1800562  Hemochromatosis type 1|Hereditary cancer-predi...   \n",
       "1      HFE    rs1800562  Hemochromatosis type 1|Hereditary cancer-predi...   \n",
       "2  TMEM127  rs121908830  Pheochromocytoma, susceptibility to|Pheochromo...   \n",
       "3  TMEM127  rs121908830  Pheochromocytoma, susceptibility to|Pheochromo...   \n",
       "4  KLHDC8B  rs387906223                           Classic Hodgkin lymphoma   \n",
       "\n",
       "   variation_id  \n",
       "0             9  \n",
       "1             9  \n",
       "2           108  \n",
       "3           108  \n",
       "4           273  "
      ]
     },
     "execution_count": 18,
     "metadata": {},
     "output_type": "execute_result"
    }
   ],
   "source": [
    "clinvar_processed = pd.read_csv('../home/data/processed_data/GlyGen/clinvar/clinvar_processed.tsv', sep = '\\t')\n",
    "clinvar_processed.head()"
   ]
  },
  {
   "cell_type": "code",
   "execution_count": 19,
   "metadata": {},
   "outputs": [
    {
     "data": {
      "text/plain": [
       "Gene            0\n",
       "rs_id           0\n",
       "disease         0\n",
       "variation_id    0\n",
       "dtype: int64"
      ]
     },
     "execution_count": 19,
     "metadata": {},
     "output_type": "execute_result"
    }
   ],
   "source": [
    "clinvar_processed.isnull().sum()"
   ]
  },
  {
   "cell_type": "code",
   "execution_count": null,
   "metadata": {},
   "outputs": [],
   "source": [
    "# read in cleaned condition data \n",
    "conditions_clean = pd.read_csv('../home/data/processed_data/GlyGen/clinvar/clinvar_conditions.tsv', sep = '\\t')"
   ]
  }
 ],
 "metadata": {
  "kernelspec": {
   "display_name": "Python 3",
   "language": "python",
   "name": "python3"
  },
  "language_info": {
   "codemirror_mode": {
    "name": "ipython",
    "version": 3
   },
   "file_extension": ".py",
   "mimetype": "text/x-python",
   "name": "python",
   "nbconvert_exporter": "python",
   "pygments_lexer": "ipython3",
   "version": "3.10.12"
  },
  "orig_nbformat": 4
 },
 "nbformat": 4,
 "nbformat_minor": 2
}
