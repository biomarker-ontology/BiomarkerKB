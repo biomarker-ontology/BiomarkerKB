{
 "cells": [
  {
   "cell_type": "code",
   "execution_count": null,
   "metadata": {},
   "outputs": [],
   "source": [
    "# imports \n",
    "import pandas as pd \n",
    "import numpy as np\n",
    "from data_extraction import DataExtractionHelper\n",
    "\n",
    "# load helper \n",
    "helper = DataExtractionHelper()\n",
    "# remove max columns for display output\n",
    "pd.set_option('display.max_columns', None)"
   ]
  },
  {
   "cell_type": "code",
   "execution_count": null,
   "metadata": {},
   "outputs": [],
   "source": [
    "# read in markerdb data \n",
    "markerdb_raw = helper.read_in_data('../data/markerdb_targets.csv', 'csv')\n",
    "markerdb_raw"
   ]
  }
 ],
 "metadata": {
  "language_info": {
   "name": "python"
  },
  "orig_nbformat": 4
 },
 "nbformat": 4,
 "nbformat_minor": 2
}
