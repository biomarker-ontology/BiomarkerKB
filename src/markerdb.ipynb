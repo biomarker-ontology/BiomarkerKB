{
 "cells": [
  {
   "cell_type": "markdown",
   "metadata": {},
   "source": [
    "# MarkerDB\n",
    "\n",
    "Original data was pulled from [here](https://markerdb.ca/downloads) (genetics) on 2/14/24. "
   ]
  },
  {
   "cell_type": "code",
   "execution_count": 13,
   "metadata": {},
   "outputs": [],
   "source": [
    "import pandas as pd\n",
    "import table_cleaning_functions as tcf \n",
    "\n",
    "# read in markerdb data \n",
    "markerdb_raw = pd.read_csv('../home/data/raw_data/GlyGen/markerdb_raw.tsv', sep = '\\t', header = None)"
   ]
  },
  {
   "cell_type": "code",
   "execution_count": 14,
   "metadata": {},
   "outputs": [
    {
     "name": "stdout",
     "output_type": "stream",
     "text": [
      "(11622, 9)\n"
     ]
    },
    {
     "data": {
      "text/html": [
       "<div>\n",
       "<style scoped>\n",
       "    .dataframe tbody tr th:only-of-type {\n",
       "        vertical-align: middle;\n",
       "    }\n",
       "\n",
       "    .dataframe tbody tr th {\n",
       "        vertical-align: top;\n",
       "    }\n",
       "\n",
       "    .dataframe thead th {\n",
       "        text-align: right;\n",
       "    }\n",
       "</style>\n",
       "<table border=\"1\" class=\"dataframe\">\n",
       "  <thead>\n",
       "    <tr style=\"text-align: right;\">\n",
       "      <th></th>\n",
       "      <th>0</th>\n",
       "      <th>1</th>\n",
       "      <th>2</th>\n",
       "      <th>3</th>\n",
       "      <th>4</th>\n",
       "      <th>5</th>\n",
       "      <th>6</th>\n",
       "      <th>7</th>\n",
       "      <th>8</th>\n",
       "    </tr>\n",
       "  </thead>\n",
       "  <tbody>\n",
       "    <tr>\n",
       "      <th>0</th>\n",
       "      <td>14030</td>\n",
       "      <td>LRP1</td>\n",
       "      <td>rs1385526</td>\n",
       "      <td>Familial Abdominal Aortic Aneurysm</td>\n",
       "      <td>Pathogenic</td>\n",
       "      <td>NaN</td>\n",
       "      <td>NaN</td>\n",
       "      <td>NaN</td>\n",
       "      <td>NaN</td>\n",
       "    </tr>\n",
       "    <tr>\n",
       "      <th>1</th>\n",
       "      <td>14031</td>\n",
       "      <td>ERG</td>\n",
       "      <td>rs2836411</td>\n",
       "      <td>Familial Abdominal Aortic Aneurysm</td>\n",
       "      <td>Pathogenic</td>\n",
       "      <td>NaN</td>\n",
       "      <td>NaN</td>\n",
       "      <td>NaN</td>\n",
       "      <td>NaN</td>\n",
       "    </tr>\n",
       "    <tr>\n",
       "      <th>2</th>\n",
       "      <td>14032</td>\n",
       "      <td>ERG</td>\n",
       "      <td>rs602633</td>\n",
       "      <td>Familial Abdominal Aortic Aneurysm</td>\n",
       "      <td>Pathogenic</td>\n",
       "      <td>NaN</td>\n",
       "      <td>NaN</td>\n",
       "      <td>NaN</td>\n",
       "      <td>NaN</td>\n",
       "    </tr>\n",
       "    <tr>\n",
       "      <th>3</th>\n",
       "      <td>14035</td>\n",
       "      <td>TBXAS1</td>\n",
       "      <td>rs17837497</td>\n",
       "      <td>Acute Lymphoblastic Leukemia</td>\n",
       "      <td>Pathogenic</td>\n",
       "      <td>NaN</td>\n",
       "      <td>NaN</td>\n",
       "      <td>NaN</td>\n",
       "      <td>NaN</td>\n",
       "    </tr>\n",
       "    <tr>\n",
       "      <th>4</th>\n",
       "      <td>14036</td>\n",
       "      <td>TBXAS1</td>\n",
       "      <td>rs17079534</td>\n",
       "      <td>Acute Lymphoblastic Leukemia</td>\n",
       "      <td>Pathogenic</td>\n",
       "      <td>NaN</td>\n",
       "      <td>NaN</td>\n",
       "      <td>NaN</td>\n",
       "      <td>NaN</td>\n",
       "    </tr>\n",
       "  </tbody>\n",
       "</table>\n",
       "</div>"
      ],
      "text/plain": [
       "       0       1           2                                   3           4  \\\n",
       "0  14030    LRP1   rs1385526  Familial Abdominal Aortic Aneurysm  Pathogenic   \n",
       "1  14031     ERG   rs2836411  Familial Abdominal Aortic Aneurysm  Pathogenic   \n",
       "2  14032     ERG    rs602633  Familial Abdominal Aortic Aneurysm  Pathogenic   \n",
       "3  14035  TBXAS1  rs17837497        Acute Lymphoblastic Leukemia  Pathogenic   \n",
       "4  14036  TBXAS1  rs17079534        Acute Lymphoblastic Leukemia  Pathogenic   \n",
       "\n",
       "    5   6   7   8  \n",
       "0 NaN NaN NaN NaN  \n",
       "1 NaN NaN NaN NaN  \n",
       "2 NaN NaN NaN NaN  \n",
       "3 NaN NaN NaN NaN  \n",
       "4 NaN NaN NaN NaN  "
      ]
     },
     "execution_count": 14,
     "metadata": {},
     "output_type": "execute_result"
    }
   ],
   "source": [
    "print(markerdb_raw.shape)\n",
    "markerdb_raw.head()"
   ]
  },
  {
   "cell_type": "markdown",
   "metadata": {},
   "source": [
    "Add in column headers. "
   ]
  },
  {
   "cell_type": "code",
   "execution_count": 15,
   "metadata": {},
   "outputs": [
    {
     "data": {
      "text/html": [
       "<div>\n",
       "<style scoped>\n",
       "    .dataframe tbody tr th:only-of-type {\n",
       "        vertical-align: middle;\n",
       "    }\n",
       "\n",
       "    .dataframe tbody tr th {\n",
       "        vertical-align: top;\n",
       "    }\n",
       "\n",
       "    .dataframe thead th {\n",
       "        text-align: right;\n",
       "    }\n",
       "</style>\n",
       "<table border=\"1\" class=\"dataframe\">\n",
       "  <thead>\n",
       "    <tr style=\"text-align: right;\">\n",
       "      <th></th>\n",
       "      <th>markerdb_id</th>\n",
       "      <th>gene</th>\n",
       "      <th>rs_id</th>\n",
       "      <th>disease</th>\n",
       "      <th>other</th>\n",
       "      <th>misc</th>\n",
       "      <th>misc1</th>\n",
       "      <th>misc2</th>\n",
       "      <th>misc3</th>\n",
       "    </tr>\n",
       "  </thead>\n",
       "  <tbody>\n",
       "    <tr>\n",
       "      <th>0</th>\n",
       "      <td>14030</td>\n",
       "      <td>LRP1</td>\n",
       "      <td>rs1385526</td>\n",
       "      <td>Familial Abdominal Aortic Aneurysm</td>\n",
       "      <td>Pathogenic</td>\n",
       "      <td>NaN</td>\n",
       "      <td>NaN</td>\n",
       "      <td>NaN</td>\n",
       "      <td>NaN</td>\n",
       "    </tr>\n",
       "    <tr>\n",
       "      <th>1</th>\n",
       "      <td>14031</td>\n",
       "      <td>ERG</td>\n",
       "      <td>rs2836411</td>\n",
       "      <td>Familial Abdominal Aortic Aneurysm</td>\n",
       "      <td>Pathogenic</td>\n",
       "      <td>NaN</td>\n",
       "      <td>NaN</td>\n",
       "      <td>NaN</td>\n",
       "      <td>NaN</td>\n",
       "    </tr>\n",
       "    <tr>\n",
       "      <th>2</th>\n",
       "      <td>14032</td>\n",
       "      <td>ERG</td>\n",
       "      <td>rs602633</td>\n",
       "      <td>Familial Abdominal Aortic Aneurysm</td>\n",
       "      <td>Pathogenic</td>\n",
       "      <td>NaN</td>\n",
       "      <td>NaN</td>\n",
       "      <td>NaN</td>\n",
       "      <td>NaN</td>\n",
       "    </tr>\n",
       "    <tr>\n",
       "      <th>3</th>\n",
       "      <td>14035</td>\n",
       "      <td>TBXAS1</td>\n",
       "      <td>rs17837497</td>\n",
       "      <td>Acute Lymphoblastic Leukemia</td>\n",
       "      <td>Pathogenic</td>\n",
       "      <td>NaN</td>\n",
       "      <td>NaN</td>\n",
       "      <td>NaN</td>\n",
       "      <td>NaN</td>\n",
       "    </tr>\n",
       "    <tr>\n",
       "      <th>4</th>\n",
       "      <td>14036</td>\n",
       "      <td>TBXAS1</td>\n",
       "      <td>rs17079534</td>\n",
       "      <td>Acute Lymphoblastic Leukemia</td>\n",
       "      <td>Pathogenic</td>\n",
       "      <td>NaN</td>\n",
       "      <td>NaN</td>\n",
       "      <td>NaN</td>\n",
       "      <td>NaN</td>\n",
       "    </tr>\n",
       "  </tbody>\n",
       "</table>\n",
       "</div>"
      ],
      "text/plain": [
       "   markerdb_id    gene       rs_id                             disease  \\\n",
       "0        14030    LRP1   rs1385526  Familial Abdominal Aortic Aneurysm   \n",
       "1        14031     ERG   rs2836411  Familial Abdominal Aortic Aneurysm   \n",
       "2        14032     ERG    rs602633  Familial Abdominal Aortic Aneurysm   \n",
       "3        14035  TBXAS1  rs17837497        Acute Lymphoblastic Leukemia   \n",
       "4        14036  TBXAS1  rs17079534        Acute Lymphoblastic Leukemia   \n",
       "\n",
       "        other  misc  misc1  misc2  misc3  \n",
       "0  Pathogenic   NaN    NaN    NaN    NaN  \n",
       "1  Pathogenic   NaN    NaN    NaN    NaN  \n",
       "2  Pathogenic   NaN    NaN    NaN    NaN  \n",
       "3  Pathogenic   NaN    NaN    NaN    NaN  \n",
       "4  Pathogenic   NaN    NaN    NaN    NaN  "
      ]
     },
     "execution_count": 15,
     "metadata": {},
     "output_type": "execute_result"
    }
   ],
   "source": [
    "cols = ['markerdb_id', 'gene', 'rs_id', 'disease', 'other', 'misc', 'misc1', 'misc2', 'misc3']\n",
    "markerdb_raw.columns = cols\n",
    "markerdb_raw.head()"
   ]
  },
  {
   "cell_type": "markdown",
   "metadata": {},
   "source": [
    "Check for null values."
   ]
  },
  {
   "cell_type": "code",
   "execution_count": 17,
   "metadata": {},
   "outputs": [
    {
     "name": "stdout",
     "output_type": "stream",
     "text": [
      "(11622, 9)\n"
     ]
    },
    {
     "data": {
      "text/plain": [
       "markerdb_id        0\n",
       "gene               0\n",
       "rs_id              0\n",
       "disease            0\n",
       "other              2\n",
       "misc           11622\n",
       "misc1          11622\n",
       "misc2          11622\n",
       "misc3          11622\n",
       "dtype: int64"
      ]
     },
     "execution_count": 17,
     "metadata": {},
     "output_type": "execute_result"
    }
   ],
   "source": [
    "print(markerdb_raw.shape)\n",
    "markerdb_raw.isnull().sum()"
   ]
  },
  {
   "cell_type": "markdown",
   "metadata": {},
   "source": [
    "Drop unnecessary columns. "
   ]
  },
  {
   "cell_type": "code",
   "execution_count": 18,
   "metadata": {},
   "outputs": [
    {
     "data": {
      "text/html": [
       "<div>\n",
       "<style scoped>\n",
       "    .dataframe tbody tr th:only-of-type {\n",
       "        vertical-align: middle;\n",
       "    }\n",
       "\n",
       "    .dataframe tbody tr th {\n",
       "        vertical-align: top;\n",
       "    }\n",
       "\n",
       "    .dataframe thead th {\n",
       "        text-align: right;\n",
       "    }\n",
       "</style>\n",
       "<table border=\"1\" class=\"dataframe\">\n",
       "  <thead>\n",
       "    <tr style=\"text-align: right;\">\n",
       "      <th></th>\n",
       "      <th>markerdb_id</th>\n",
       "      <th>gene</th>\n",
       "      <th>rs_id</th>\n",
       "      <th>disease</th>\n",
       "    </tr>\n",
       "  </thead>\n",
       "  <tbody>\n",
       "    <tr>\n",
       "      <th>0</th>\n",
       "      <td>14030</td>\n",
       "      <td>LRP1</td>\n",
       "      <td>rs1385526</td>\n",
       "      <td>Familial Abdominal Aortic Aneurysm</td>\n",
       "    </tr>\n",
       "    <tr>\n",
       "      <th>1</th>\n",
       "      <td>14031</td>\n",
       "      <td>ERG</td>\n",
       "      <td>rs2836411</td>\n",
       "      <td>Familial Abdominal Aortic Aneurysm</td>\n",
       "    </tr>\n",
       "    <tr>\n",
       "      <th>2</th>\n",
       "      <td>14032</td>\n",
       "      <td>ERG</td>\n",
       "      <td>rs602633</td>\n",
       "      <td>Familial Abdominal Aortic Aneurysm</td>\n",
       "    </tr>\n",
       "    <tr>\n",
       "      <th>3</th>\n",
       "      <td>14035</td>\n",
       "      <td>TBXAS1</td>\n",
       "      <td>rs17837497</td>\n",
       "      <td>Acute Lymphoblastic Leukemia</td>\n",
       "    </tr>\n",
       "    <tr>\n",
       "      <th>4</th>\n",
       "      <td>14036</td>\n",
       "      <td>TBXAS1</td>\n",
       "      <td>rs17079534</td>\n",
       "      <td>Acute Lymphoblastic Leukemia</td>\n",
       "    </tr>\n",
       "  </tbody>\n",
       "</table>\n",
       "</div>"
      ],
      "text/plain": [
       "   markerdb_id    gene       rs_id                             disease\n",
       "0        14030    LRP1   rs1385526  Familial Abdominal Aortic Aneurysm\n",
       "1        14031     ERG   rs2836411  Familial Abdominal Aortic Aneurysm\n",
       "2        14032     ERG    rs602633  Familial Abdominal Aortic Aneurysm\n",
       "3        14035  TBXAS1  rs17837497        Acute Lymphoblastic Leukemia\n",
       "4        14036  TBXAS1  rs17079534        Acute Lymphoblastic Leukemia"
      ]
     },
     "execution_count": 18,
     "metadata": {},
     "output_type": "execute_result"
    }
   ],
   "source": [
    "markerdb_raw = markerdb_raw.drop(columns = ['other', 'misc', 'misc1', 'misc2', 'misc3'])\n",
    "markerdb_raw.head()"
   ]
  },
  {
   "cell_type": "markdown",
   "metadata": {},
   "source": [
    "Only interested in cancer related rows right now, filter on cancer related conditions."
   ]
  },
  {
   "cell_type": "code",
   "execution_count": 19,
   "metadata": {},
   "outputs": [
    {
     "name": "stdout",
     "output_type": "stream",
     "text": [
      "(9270, 4)\n"
     ]
    },
    {
     "data": {
      "text/html": [
       "<div>\n",
       "<style scoped>\n",
       "    .dataframe tbody tr th:only-of-type {\n",
       "        vertical-align: middle;\n",
       "    }\n",
       "\n",
       "    .dataframe tbody tr th {\n",
       "        vertical-align: top;\n",
       "    }\n",
       "\n",
       "    .dataframe thead th {\n",
       "        text-align: right;\n",
       "    }\n",
       "</style>\n",
       "<table border=\"1\" class=\"dataframe\">\n",
       "  <thead>\n",
       "    <tr style=\"text-align: right;\">\n",
       "      <th></th>\n",
       "      <th>markerdb_id</th>\n",
       "      <th>gene</th>\n",
       "      <th>rs_id</th>\n",
       "      <th>disease</th>\n",
       "    </tr>\n",
       "  </thead>\n",
       "  <tbody>\n",
       "    <tr>\n",
       "      <th>3</th>\n",
       "      <td>14035</td>\n",
       "      <td>TBXAS1</td>\n",
       "      <td>rs17837497</td>\n",
       "      <td>Acute Lymphoblastic Leukemia</td>\n",
       "    </tr>\n",
       "    <tr>\n",
       "      <th>4</th>\n",
       "      <td>14036</td>\n",
       "      <td>TBXAS1</td>\n",
       "      <td>rs17079534</td>\n",
       "      <td>Acute Lymphoblastic Leukemia</td>\n",
       "    </tr>\n",
       "    <tr>\n",
       "      <th>5</th>\n",
       "      <td>14037</td>\n",
       "      <td>MAGI2</td>\n",
       "      <td>rs1496766</td>\n",
       "      <td>Acute Lymphoblastic Leukemia</td>\n",
       "    </tr>\n",
       "    <tr>\n",
       "      <th>6</th>\n",
       "      <td>14038</td>\n",
       "      <td>PDE4B</td>\n",
       "      <td>rs6683977</td>\n",
       "      <td>Acute Lymphoblastic Leukemia</td>\n",
       "    </tr>\n",
       "    <tr>\n",
       "      <th>7</th>\n",
       "      <td>14039</td>\n",
       "      <td>PYGL</td>\n",
       "      <td>rs7142143</td>\n",
       "      <td>Acute Lymphoblastic Leukemia</td>\n",
       "    </tr>\n",
       "  </tbody>\n",
       "</table>\n",
       "</div>"
      ],
      "text/plain": [
       "   markerdb_id    gene       rs_id                       disease\n",
       "3        14035  TBXAS1  rs17837497  Acute Lymphoblastic Leukemia\n",
       "4        14036  TBXAS1  rs17079534  Acute Lymphoblastic Leukemia\n",
       "5        14037   MAGI2   rs1496766  Acute Lymphoblastic Leukemia\n",
       "6        14038   PDE4B   rs6683977  Acute Lymphoblastic Leukemia\n",
       "7        14039    PYGL   rs7142143  Acute Lymphoblastic Leukemia"
      ]
     },
     "execution_count": 19,
     "metadata": {},
     "output_type": "execute_result"
    }
   ],
   "source": [
    "# cancer related words\n",
    "cancer_related = ['cancer', 'carcinoma', 'leukemia', 'tumor', 'malignancy', 'glioblastoma',\n",
    "                'melanoma', 'lymphoma', 'sarcoma']\n",
    "\n",
    "markerdb_raw = markerdb_raw[markerdb_raw['disease'].str.contains('|'.join(cancer_related), case = False, na = False)]\n",
    "print(markerdb_raw.shape)\n",
    "markerdb_raw.head()"
   ]
  },
  {
   "cell_type": "markdown",
   "metadata": {},
   "source": [
    "Recheck for null values."
   ]
  },
  {
   "cell_type": "code",
   "execution_count": 20,
   "metadata": {},
   "outputs": [
    {
     "data": {
      "text/plain": [
       "markerdb_id    0\n",
       "gene           0\n",
       "rs_id          0\n",
       "disease        0\n",
       "dtype: int64"
      ]
     },
     "execution_count": 20,
     "metadata": {},
     "output_type": "execute_result"
    }
   ],
   "source": [
    "markerdb_raw.isnull().sum()"
   ]
  },
  {
   "cell_type": "markdown",
   "metadata": {},
   "source": [
    "Save processed data and isolate conditions to clean manually. "
   ]
  },
  {
   "cell_type": "code",
   "execution_count": 25,
   "metadata": {},
   "outputs": [],
   "source": [
    "markerdb_raw.to_csv('../home/data/processed_data/GlyGen/markerdb/markerdb_processed.tsv', sep = '\\t', index = False)"
   ]
  },
  {
   "cell_type": "code",
   "execution_count": 27,
   "metadata": {},
   "outputs": [],
   "source": [
    "conditions = markerdb_raw['disease']\n",
    "conditions = conditions.drop_duplicates()\n",
    "conditions.to_csv('../home/data/processed_data/GlyGen/markerdb/markerdb_conditions.tsv', sep = '\\t', index = False)"
   ]
  },
  {
   "cell_type": "code",
   "execution_count": 28,
   "metadata": {},
   "outputs": [
    {
     "data": {
      "text/plain": [
       "disease\n",
       "Familial Breast Ovarian Cancer                                   5827\n",
       "Breast Cancer                                                    1467\n",
       "Breast Ovarian Cancer                                            1415\n",
       "Colon Cancer                                                      111\n",
       "Hereditary Diffuse Gastric Cancer                                  89\n",
       "Ovarian Cancer                                                     47\n",
       "PTEN Hamartoma Tumor Syndrome                                      42\n",
       "Pancreatic Cancer                                                  40\n",
       "Familial Platelet Disorder With Associated Myeloid Malignancy      38\n",
       "Prostate Cancer                                                    31\n",
       "Colorectal Cancer                                                  24\n",
       "Wilms Tumor 1                                                      20\n",
       "Somatic Adenocarcinoma of the Lung                                 17\n",
       "Melanoma                                                           16\n",
       "Small Cell Cancer Of The Lung                                      10\n",
       "Bladder Cancer                                                      9\n",
       "Acute Myeloid Leukemia                                              9\n",
       "Chronic Lymphocytic Leukemia                                        8\n",
       "Acute Lymphoblastic Leukemia                                        7\n",
       "Esophageal Cancer                                                   6\n",
       "Follicular Lymphoma                                                 6\n",
       "Wilms Tumor                                                         5\n",
       "Endometrial Cancer                                                  4\n",
       "Invasive Ductal Breast Cancer                                       3\n",
       "Marginal Zone Lymphoma                                              3\n",
       "Hepatocellular Carcinoma                                            2\n",
       "Lung Cancer                                                         2\n",
       "Diffuse Large B Cell Lymphoma                                       2\n",
       "Renal Cell Carcinoma                                                2\n",
       "Nasopharyngeal Carcinoma                                            2\n",
       "Basal Cell Carcinoma                                                1\n",
       "Ewing Sarcoma                                                       1\n",
       "Cervical Cancer                                                     1\n",
       "Squamous Cell Carcinoma                                             1\n",
       "B Cell Acute Lymphoblastic Leukemia                                 1\n",
       "Burkitt Lymphoma                                                    1\n",
       "Name: count, dtype: int64"
      ]
     },
     "execution_count": 28,
     "metadata": {},
     "output_type": "execute_result"
    }
   ],
   "source": [
    "markerdb_raw['disease'].value_counts()"
   ]
  }
 ],
 "metadata": {
  "kernelspec": {
   "display_name": "Python 3",
   "language": "python",
   "name": "python3"
  },
  "language_info": {
   "codemirror_mode": {
    "name": "ipython",
    "version": 3
   },
   "file_extension": ".py",
   "mimetype": "text/x-python",
   "name": "python",
   "nbconvert_exporter": "python",
   "pygments_lexer": "ipython3",
   "version": "3.10.12"
  },
  "orig_nbformat": 4
 },
 "nbformat": 4,
 "nbformat_minor": 2
}
