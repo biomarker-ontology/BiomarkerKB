{
 "cells": [
  {
   "cell_type": "code",
   "execution_count": 98,
   "metadata": {},
   "outputs": [],
   "source": [
    "import pandas as pd\n",
    "import table_cleaning_functions as tcf "
   ]
  },
  {
   "cell_type": "code",
   "execution_count": 99,
   "metadata": {},
   "outputs": [
    {
     "data": {
      "text/html": [
       "<div>\n",
       "<style scoped>\n",
       "    .dataframe tbody tr th:only-of-type {\n",
       "        vertical-align: middle;\n",
       "    }\n",
       "\n",
       "    .dataframe tbody tr th {\n",
       "        vertical-align: top;\n",
       "    }\n",
       "\n",
       "    .dataframe thead th {\n",
       "        text-align: right;\n",
       "    }\n",
       "</style>\n",
       "<table border=\"1\" class=\"dataframe\">\n",
       "  <thead>\n",
       "    <tr style=\"text-align: right;\">\n",
       "      <th></th>\n",
       "      <th>biomarker_ID</th>\n",
       "      <th>main_Xref</th>\n",
       "      <th>assessed_biomarker_entity</th>\n",
       "      <th>biomarker_status</th>\n",
       "      <th>best_biomarker_type</th>\n",
       "      <th>specimen_type</th>\n",
       "      <th>loinc_code</th>\n",
       "      <th>condition_name</th>\n",
       "      <th>assessed_entity_type</th>\n",
       "      <th>evidence_source</th>\n",
       "      <th>notes</th>\n",
       "      <th>markerdb_id</th>\n",
       "      <th>Name</th>\n",
       "      <th>system</th>\n",
       "      <th>DOID</th>\n",
       "      <th>rsID</th>\n",
       "      <th>variant</th>\n",
       "      <th>rsID2</th>\n",
       "    </tr>\n",
       "  </thead>\n",
       "  <tbody>\n",
       "    <tr>\n",
       "      <th>0</th>\n",
       "      <td>NaN</td>\n",
       "      <td>dbSNP:rs11892031</td>\n",
       "      <td>rs11892031 mutation in UDP-glucuronosyltransfe...</td>\n",
       "      <td>presence of</td>\n",
       "      <td>risk_biomarker</td>\n",
       "      <td>NaN</td>\n",
       "      <td>NaN</td>\n",
       "      <td>bladder cancer (DOID:11054)</td>\n",
       "      <td>gene</td>\n",
       "      <td>markerDB</td>\n",
       "      <td>UPKB:A9JQZ4 GRCh38</td>\n",
       "      <td>14104</td>\n",
       "      <td>UDP-glucuronosyltransferase 1A8</td>\n",
       "      <td>NaN</td>\n",
       "      <td>11054</td>\n",
       "      <td>rs11892031</td>\n",
       "      <td>rs11892031</td>\n",
       "      <td>rs11892031</td>\n",
       "    </tr>\n",
       "    <tr>\n",
       "      <th>1</th>\n",
       "      <td>NaN</td>\n",
       "      <td>dbSNP:rs8102137</td>\n",
       "      <td>rs8102137 mutation in UDP-glucuronosyltransfer...</td>\n",
       "      <td>presence of</td>\n",
       "      <td>risk_biomarker</td>\n",
       "      <td>NaN</td>\n",
       "      <td>NaN</td>\n",
       "      <td>bladder cancer (DOID:11054)</td>\n",
       "      <td>gene</td>\n",
       "      <td>markerDB</td>\n",
       "      <td>UPKB:A9JQZ4 GRCh38</td>\n",
       "      <td>14105</td>\n",
       "      <td>UDP-glucuronosyltransferase 1A8</td>\n",
       "      <td>NaN</td>\n",
       "      <td>11054</td>\n",
       "      <td>rs8102137</td>\n",
       "      <td>rs8102137</td>\n",
       "      <td>rs8102137</td>\n",
       "    </tr>\n",
       "    <tr>\n",
       "      <th>2</th>\n",
       "      <td>NaN</td>\n",
       "      <td>dbSNP:rs1014971</td>\n",
       "      <td>rs1014971 mutation in UDP-glucuronosyltransfer...</td>\n",
       "      <td>presence of</td>\n",
       "      <td>risk_biomarker</td>\n",
       "      <td>NaN</td>\n",
       "      <td>NaN</td>\n",
       "      <td>bladder cancer (DOID:11054)</td>\n",
       "      <td>gene</td>\n",
       "      <td>markerDB</td>\n",
       "      <td>UPKB:A9JQZ4 GRCh38</td>\n",
       "      <td>14106</td>\n",
       "      <td>UDP-glucuronosyltransferase 1A8</td>\n",
       "      <td>NaN</td>\n",
       "      <td>11054</td>\n",
       "      <td>rs1014971</td>\n",
       "      <td>rs1014971</td>\n",
       "      <td>rs1014971</td>\n",
       "    </tr>\n",
       "    <tr>\n",
       "      <th>3</th>\n",
       "      <td>NaN</td>\n",
       "      <td>dbSNP:rs1495741</td>\n",
       "      <td>rs1495741 mutation in UDP-glucuronosyltransfer...</td>\n",
       "      <td>presence of</td>\n",
       "      <td>risk_biomarker</td>\n",
       "      <td>NaN</td>\n",
       "      <td>NaN</td>\n",
       "      <td>bladder cancer (DOID:11054)</td>\n",
       "      <td>gene</td>\n",
       "      <td>markerDB</td>\n",
       "      <td>UPKB:A9JQZ4 GRCh38</td>\n",
       "      <td>14107</td>\n",
       "      <td>UDP-glucuronosyltransferase 1A8</td>\n",
       "      <td>NaN</td>\n",
       "      <td>11054</td>\n",
       "      <td>rs1495741</td>\n",
       "      <td>rs1495741</td>\n",
       "      <td>rs1495741</td>\n",
       "    </tr>\n",
       "    <tr>\n",
       "      <th>4</th>\n",
       "      <td>NaN</td>\n",
       "      <td>dbSNP:rs710521</td>\n",
       "      <td>rs710521 mutation in UDP-glucuronosyltransfera...</td>\n",
       "      <td>presence of</td>\n",
       "      <td>risk_biomarker</td>\n",
       "      <td>NaN</td>\n",
       "      <td>NaN</td>\n",
       "      <td>bladder cancer (DOID:11054)</td>\n",
       "      <td>gene</td>\n",
       "      <td>markerDB</td>\n",
       "      <td>UPKB:A9JQZ4 GRCh38</td>\n",
       "      <td>14108</td>\n",
       "      <td>UDP-glucuronosyltransferase 1A8</td>\n",
       "      <td>NaN</td>\n",
       "      <td>11054</td>\n",
       "      <td>rs710521</td>\n",
       "      <td>rs710521</td>\n",
       "      <td>rs710521</td>\n",
       "    </tr>\n",
       "  </tbody>\n",
       "</table>\n",
       "</div>"
      ],
      "text/plain": [
       "   biomarker_ID         main_Xref  \\\n",
       "0           NaN  dbSNP:rs11892031   \n",
       "1           NaN   dbSNP:rs8102137   \n",
       "2           NaN   dbSNP:rs1014971   \n",
       "3           NaN   dbSNP:rs1495741   \n",
       "4           NaN    dbSNP:rs710521   \n",
       "\n",
       "                           assessed_biomarker_entity biomarker_status  \\\n",
       "0  rs11892031 mutation in UDP-glucuronosyltransfe...      presence of   \n",
       "1  rs8102137 mutation in UDP-glucuronosyltransfer...      presence of   \n",
       "2  rs1014971 mutation in UDP-glucuronosyltransfer...      presence of   \n",
       "3  rs1495741 mutation in UDP-glucuronosyltransfer...      presence of   \n",
       "4  rs710521 mutation in UDP-glucuronosyltransfera...      presence of   \n",
       "\n",
       "  best_biomarker_type specimen_type loinc_code               condition_name  \\\n",
       "0      risk_biomarker           NaN        NaN  bladder cancer (DOID:11054)   \n",
       "1      risk_biomarker           NaN        NaN  bladder cancer (DOID:11054)   \n",
       "2      risk_biomarker           NaN        NaN  bladder cancer (DOID:11054)   \n",
       "3      risk_biomarker           NaN        NaN  bladder cancer (DOID:11054)   \n",
       "4      risk_biomarker           NaN        NaN  bladder cancer (DOID:11054)   \n",
       "\n",
       "  assessed_entity_type evidence_source               notes  markerdb_id  \\\n",
       "0                 gene        markerDB  UPKB:A9JQZ4 GRCh38        14104   \n",
       "1                 gene        markerDB  UPKB:A9JQZ4 GRCh38        14105   \n",
       "2                 gene        markerDB  UPKB:A9JQZ4 GRCh38        14106   \n",
       "3                 gene        markerDB  UPKB:A9JQZ4 GRCh38        14107   \n",
       "4                 gene        markerDB  UPKB:A9JQZ4 GRCh38        14108   \n",
       "\n",
       "                              Name system   DOID        rsID     variant  \\\n",
       "0  UDP-glucuronosyltransferase 1A8    NaN  11054  rs11892031  rs11892031   \n",
       "1  UDP-glucuronosyltransferase 1A8    NaN  11054   rs8102137   rs8102137   \n",
       "2  UDP-glucuronosyltransferase 1A8    NaN  11054   rs1014971   rs1014971   \n",
       "3  UDP-glucuronosyltransferase 1A8    NaN  11054   rs1495741   rs1495741   \n",
       "4  UDP-glucuronosyltransferase 1A8    NaN  11054    rs710521    rs710521   \n",
       "\n",
       "        rsID2  \n",
       "0  rs11892031  \n",
       "1   rs8102137  \n",
       "2   rs1014971  \n",
       "3   rs1495741  \n",
       "4    rs710521  "
      ]
     },
     "execution_count": 99,
     "metadata": {},
     "output_type": "execute_result"
    }
   ],
   "source": [
    "raw_df = pd.read_csv('../home/raw_data/markerdb_biomarkers_revised.csv')\n",
    "raw_df = raw_df.drop(raw_df.columns[0], axis=1)\n",
    "raw_df = raw_df.drop(raw_df.columns[0], axis=1)\n",
    "raw_df.head()"
   ]
  },
  {
   "cell_type": "code",
   "execution_count": 100,
   "metadata": {},
   "outputs": [],
   "source": [
    "for col in raw_df.columns:\n",
    "    raw_df[col] = tcf.strip_values(raw_df[col])"
   ]
  },
  {
   "cell_type": "code",
   "execution_count": 101,
   "metadata": {},
   "outputs": [
    {
     "data": {
      "text/plain": [
       "biomarker_ID                 9111\n",
       "main_Xref                    2237\n",
       "assessed_biomarker_entity    2237\n",
       "biomarker_status                0\n",
       "best_biomarker_type             0\n",
       "specimen_type                  45\n",
       "loinc_code                     45\n",
       "condition_name                  0\n",
       "assessed_entity_type            0\n",
       "evidence_source                 0\n",
       "notes                           0\n",
       "markerdb_id                     0\n",
       "Name                            2\n",
       "system                         45\n",
       "DOID                            0\n",
       "rsID                         4742\n",
       "variant                         0\n",
       "rsID2                        9054\n",
       "dtype: int64"
      ]
     },
     "execution_count": 101,
     "metadata": {},
     "output_type": "execute_result"
    }
   ],
   "source": [
    "raw_df.isnull().sum()"
   ]
  },
  {
   "cell_type": "code",
   "execution_count": 102,
   "metadata": {},
   "outputs": [
    {
     "data": {
      "text/plain": [
       "(9111, 18)"
      ]
     },
     "execution_count": 102,
     "metadata": {},
     "output_type": "execute_result"
    }
   ],
   "source": [
    "raw_df.shape"
   ]
  },
  {
   "cell_type": "code",
   "execution_count": 103,
   "metadata": {},
   "outputs": [
    {
     "data": {
      "text/plain": [
       "(6874, 18)"
      ]
     },
     "execution_count": 103,
     "metadata": {},
     "output_type": "execute_result"
    }
   ],
   "source": [
    "raw_df = raw_df.dropna(subset=['main_Xref'])\n",
    "raw_df.shape"
   ]
  },
  {
   "cell_type": "code",
   "execution_count": 104,
   "metadata": {},
   "outputs": [
    {
     "data": {
      "text/plain": [
       "biomarker_ID                 6874\n",
       "main_Xref                       0\n",
       "assessed_biomarker_entity       0\n",
       "biomarker_status                0\n",
       "best_biomarker_type             0\n",
       "specimen_type                  45\n",
       "loinc_code                     45\n",
       "condition_name                  0\n",
       "assessed_entity_type            0\n",
       "evidence_source                 0\n",
       "notes                           0\n",
       "markerdb_id                     0\n",
       "Name                            2\n",
       "system                         45\n",
       "DOID                            0\n",
       "rsID                         2505\n",
       "variant                         0\n",
       "rsID2                        6817\n",
       "dtype: int64"
      ]
     },
     "execution_count": 104,
     "metadata": {},
     "output_type": "execute_result"
    }
   ],
   "source": [
    "raw_df.isnull().sum()"
   ]
  },
  {
   "cell_type": "code",
   "execution_count": 105,
   "metadata": {},
   "outputs": [
    {
     "data": {
      "text/html": [
       "<div>\n",
       "<style scoped>\n",
       "    .dataframe tbody tr th:only-of-type {\n",
       "        vertical-align: middle;\n",
       "    }\n",
       "\n",
       "    .dataframe tbody tr th {\n",
       "        vertical-align: top;\n",
       "    }\n",
       "\n",
       "    .dataframe thead th {\n",
       "        text-align: right;\n",
       "    }\n",
       "</style>\n",
       "<table border=\"1\" class=\"dataframe\">\n",
       "  <thead>\n",
       "    <tr style=\"text-align: right;\">\n",
       "      <th></th>\n",
       "      <th>biomarker_id</th>\n",
       "      <th>biomarker</th>\n",
       "      <th>assessed_biomarker_entity</th>\n",
       "      <th>assessed_biomarker_entity_id</th>\n",
       "      <th>assessed_entity_type</th>\n",
       "      <th>condition</th>\n",
       "      <th>condition_id</th>\n",
       "      <th>exposure_agent</th>\n",
       "      <th>exposure_agent_id</th>\n",
       "      <th>best_biomarker_role</th>\n",
       "      <th>specimen</th>\n",
       "      <th>specimen_id</th>\n",
       "      <th>loinc_code</th>\n",
       "      <th>evidence_source</th>\n",
       "      <th>evidence</th>\n",
       "      <th>tag</th>\n",
       "    </tr>\n",
       "  </thead>\n",
       "  <tbody>\n",
       "  </tbody>\n",
       "</table>\n",
       "</div>"
      ],
      "text/plain": [
       "Empty DataFrame\n",
       "Columns: [biomarker_id, biomarker, assessed_biomarker_entity, assessed_biomarker_entity_id, assessed_entity_type, condition, condition_id, exposure_agent, exposure_agent_id, best_biomarker_role, specimen, specimen_id, loinc_code, evidence_source, evidence, tag]\n",
       "Index: []"
      ]
     },
     "execution_count": 105,
     "metadata": {},
     "output_type": "execute_result"
    }
   ],
   "source": [
    "new_df = pd.DataFrame(columns = tcf.TSV_HEADERS)\n",
    "new_df.head()"
   ]
  },
  {
   "cell_type": "code",
   "execution_count": 106,
   "metadata": {},
   "outputs": [
    {
     "data": {
      "text/html": [
       "<div>\n",
       "<style scoped>\n",
       "    .dataframe tbody tr th:only-of-type {\n",
       "        vertical-align: middle;\n",
       "    }\n",
       "\n",
       "    .dataframe tbody tr th {\n",
       "        vertical-align: top;\n",
       "    }\n",
       "\n",
       "    .dataframe thead th {\n",
       "        text-align: right;\n",
       "    }\n",
       "</style>\n",
       "<table border=\"1\" class=\"dataframe\">\n",
       "  <thead>\n",
       "    <tr style=\"text-align: right;\">\n",
       "      <th></th>\n",
       "      <th>biomarker_id</th>\n",
       "      <th>biomarker</th>\n",
       "      <th>assessed_biomarker_entity</th>\n",
       "      <th>assessed_biomarker_entity_id</th>\n",
       "      <th>assessed_entity_type</th>\n",
       "      <th>condition</th>\n",
       "      <th>condition_id</th>\n",
       "      <th>exposure_agent</th>\n",
       "      <th>exposure_agent_id</th>\n",
       "      <th>best_biomarker_role</th>\n",
       "      <th>specimen</th>\n",
       "      <th>specimen_id</th>\n",
       "      <th>loinc_code</th>\n",
       "      <th>evidence_source</th>\n",
       "      <th>evidence</th>\n",
       "      <th>tag</th>\n",
       "    </tr>\n",
       "  </thead>\n",
       "  <tbody>\n",
       "    <tr>\n",
       "      <th>0</th>\n",
       "      <td>NaN</td>\n",
       "      <td>presence of rs11892031 mutation in UDP-glucuro...</td>\n",
       "      <td>UGT1A8</td>\n",
       "      <td>dbSNP:rs11892031</td>\n",
       "      <td>gene</td>\n",
       "      <td>bladder cancer</td>\n",
       "      <td>DOID:11054</td>\n",
       "      <td>NaN</td>\n",
       "      <td>NaN</td>\n",
       "      <td>risk</td>\n",
       "      <td>NaN</td>\n",
       "      <td>NaN</td>\n",
       "      <td>NaN</td>\n",
       "      <td>MarkerDB:14104</td>\n",
       "      <td></td>\n",
       "      <td>biomarker;assessed_biomarker_entity_id;assesse...</td>\n",
       "    </tr>\n",
       "    <tr>\n",
       "      <th>1</th>\n",
       "      <td>NaN</td>\n",
       "      <td>presence of rs8102137 mutation in UDP-glucuron...</td>\n",
       "      <td>UGT1A8</td>\n",
       "      <td>dbSNP:rs8102137</td>\n",
       "      <td>gene</td>\n",
       "      <td>bladder cancer</td>\n",
       "      <td>DOID:11054</td>\n",
       "      <td>NaN</td>\n",
       "      <td>NaN</td>\n",
       "      <td>risk</td>\n",
       "      <td>NaN</td>\n",
       "      <td>NaN</td>\n",
       "      <td>NaN</td>\n",
       "      <td>MarkerDB:14105</td>\n",
       "      <td></td>\n",
       "      <td>biomarker;assessed_biomarker_entity_id;assesse...</td>\n",
       "    </tr>\n",
       "    <tr>\n",
       "      <th>2</th>\n",
       "      <td>NaN</td>\n",
       "      <td>presence of rs1014971 mutation in UDP-glucuron...</td>\n",
       "      <td>UGT1A8</td>\n",
       "      <td>dbSNP:rs1014971</td>\n",
       "      <td>gene</td>\n",
       "      <td>bladder cancer</td>\n",
       "      <td>DOID:11054</td>\n",
       "      <td>NaN</td>\n",
       "      <td>NaN</td>\n",
       "      <td>risk</td>\n",
       "      <td>NaN</td>\n",
       "      <td>NaN</td>\n",
       "      <td>NaN</td>\n",
       "      <td>MarkerDB:14106</td>\n",
       "      <td></td>\n",
       "      <td>biomarker;assessed_biomarker_entity_id;assesse...</td>\n",
       "    </tr>\n",
       "    <tr>\n",
       "      <th>3</th>\n",
       "      <td>NaN</td>\n",
       "      <td>presence of rs1495741 mutation in UDP-glucuron...</td>\n",
       "      <td>UGT1A8</td>\n",
       "      <td>dbSNP:rs1495741</td>\n",
       "      <td>gene</td>\n",
       "      <td>bladder cancer</td>\n",
       "      <td>DOID:11054</td>\n",
       "      <td>NaN</td>\n",
       "      <td>NaN</td>\n",
       "      <td>risk</td>\n",
       "      <td>NaN</td>\n",
       "      <td>NaN</td>\n",
       "      <td>NaN</td>\n",
       "      <td>MarkerDB:14107</td>\n",
       "      <td></td>\n",
       "      <td>biomarker;assessed_biomarker_entity_id;assesse...</td>\n",
       "    </tr>\n",
       "    <tr>\n",
       "      <th>4</th>\n",
       "      <td>NaN</td>\n",
       "      <td>presence of rs710521 mutation in UDP-glucurono...</td>\n",
       "      <td>UGT1A8</td>\n",
       "      <td>dbSNP:rs710521</td>\n",
       "      <td>gene</td>\n",
       "      <td>bladder cancer</td>\n",
       "      <td>DOID:11054</td>\n",
       "      <td>NaN</td>\n",
       "      <td>NaN</td>\n",
       "      <td>risk</td>\n",
       "      <td>NaN</td>\n",
       "      <td>NaN</td>\n",
       "      <td>NaN</td>\n",
       "      <td>MarkerDB:14108</td>\n",
       "      <td></td>\n",
       "      <td>biomarker;assessed_biomarker_entity_id;assesse...</td>\n",
       "    </tr>\n",
       "  </tbody>\n",
       "</table>\n",
       "</div>"
      ],
      "text/plain": [
       "  biomarker_id                                          biomarker  \\\n",
       "0          NaN  presence of rs11892031 mutation in UDP-glucuro...   \n",
       "1          NaN  presence of rs8102137 mutation in UDP-glucuron...   \n",
       "2          NaN  presence of rs1014971 mutation in UDP-glucuron...   \n",
       "3          NaN  presence of rs1495741 mutation in UDP-glucuron...   \n",
       "4          NaN  presence of rs710521 mutation in UDP-glucurono...   \n",
       "\n",
       "  assessed_biomarker_entity assessed_biomarker_entity_id assessed_entity_type  \\\n",
       "0                    UGT1A8             dbSNP:rs11892031                 gene   \n",
       "1                    UGT1A8              dbSNP:rs8102137                 gene   \n",
       "2                    UGT1A8              dbSNP:rs1014971                 gene   \n",
       "3                    UGT1A8              dbSNP:rs1495741                 gene   \n",
       "4                    UGT1A8               dbSNP:rs710521                 gene   \n",
       "\n",
       "        condition condition_id exposure_agent exposure_agent_id  \\\n",
       "0  bladder cancer   DOID:11054            NaN               NaN   \n",
       "1  bladder cancer   DOID:11054            NaN               NaN   \n",
       "2  bladder cancer   DOID:11054            NaN               NaN   \n",
       "3  bladder cancer   DOID:11054            NaN               NaN   \n",
       "4  bladder cancer   DOID:11054            NaN               NaN   \n",
       "\n",
       "  best_biomarker_role specimen specimen_id loinc_code evidence_source  \\\n",
       "0                risk      NaN         NaN        NaN  MarkerDB:14104   \n",
       "1                risk      NaN         NaN        NaN  MarkerDB:14105   \n",
       "2                risk      NaN         NaN        NaN  MarkerDB:14106   \n",
       "3                risk      NaN         NaN        NaN  MarkerDB:14107   \n",
       "4                risk      NaN         NaN        NaN  MarkerDB:14108   \n",
       "\n",
       "  evidence                                                tag  \n",
       "0           biomarker;assessed_biomarker_entity_id;assesse...  \n",
       "1           biomarker;assessed_biomarker_entity_id;assesse...  \n",
       "2           biomarker;assessed_biomarker_entity_id;assesse...  \n",
       "3           biomarker;assessed_biomarker_entity_id;assesse...  \n",
       "4           biomarker;assessed_biomarker_entity_id;assesse...  "
      ]
     },
     "execution_count": 106,
     "metadata": {},
     "output_type": "execute_result"
    }
   ],
   "source": [
    "new_df['biomarker'] = raw_df['biomarker_status'] + ' ' + raw_df['assessed_biomarker_entity']\n",
    "new_df['assessed_biomarker_entity_id'] = raw_df['main_Xref']\n",
    "new_df['assessed_biomarker_entity'] = raw_df['assessed_biomarker_entity'].str.extract(r'\\((?!.*-)([^\\)]+)\\)[^\\(]*$')[0].str.strip()\n",
    "new_df['assessed_entity_type'] = raw_df['assessed_entity_type']\n",
    "new_df['best_biomarker_role'] = raw_df['best_biomarker_type'].str.replace('_biomarker', '')\n",
    "new_df['specimen'] = raw_df['specimen_type'].str.findall(r'^(.*?)\\(').str[0]\n",
    "new_df['specimen_id'] = raw_df['specimen_type'].str.findall(r'\\((.*?)\\)$').str[0]\n",
    "new_df['loinc_code'] = raw_df['loinc_code']\n",
    "new_df['condition'] = raw_df['condition_name'].str.extract(r'^(.*?)\\s*\\(')\n",
    "new_df['condition_id'] = raw_df['condition_name'].str.extract(r'\\((.*?)\\)$')\n",
    "new_df['evidence_source'] = 'MarkerDB:' + raw_df['markerdb_id'].astype(str)\n",
    "new_df['evidence'] = ''\n",
    "new_df['tag'] = 'biomarker;assessed_biomarker_entity_id;assessed_biomarker_entity;specimen;condition'\n",
    "new_df.head()"
   ]
  },
  {
   "cell_type": "code",
   "execution_count": 107,
   "metadata": {},
   "outputs": [
    {
     "data": {
      "text/plain": [
       "condition\n",
       "hereditary breast ovarian cancer syndrome    5457\n",
       "breast cancer                                1062\n",
       "stomach cancer                                 89\n",
       "colon cancer                                   80\n",
       "pancreatic cancer                              40\n",
       "ovarian cancer                                 40\n",
       "prostate cancer                                31\n",
       "lung cancer                                    29\n",
       "colorectal cancer                              17\n",
       "bladder cancer                                  9\n",
       "esophageal cancer                               6\n",
       "endometrial cancer                              4\n",
       "liver cancer                                    3\n",
       "nasopharyngeal carcinoma                        2\n",
       "kidney cancer                                   2\n",
       "cervical cancer                                 1\n",
       "basal cell carcinoma                            1\n",
       "squamous cell carcinoma                         1\n",
       "Name: count, dtype: int64"
      ]
     },
     "execution_count": 107,
     "metadata": {},
     "output_type": "execute_result"
    }
   ],
   "source": [
    "new_df['condition'].value_counts()"
   ]
  },
  {
   "cell_type": "code",
   "execution_count": 108,
   "metadata": {},
   "outputs": [
    {
     "data": {
      "text/plain": [
       "condition_id\n",
       "DOID:5683     5457\n",
       "DOID:1612     1062\n",
       "DOID:10534      89\n",
       "DOID:219        80\n",
       "DOID:1793       40\n",
       "DOID:2394       40\n",
       "DOID:10283      31\n",
       "DOID:1324       29\n",
       "DOID:9256       17\n",
       "DOID:11054       9\n",
       "DOID:5041        6\n",
       "DOID:1380        4\n",
       "DOID:3571        3\n",
       "DOID:9261        2\n",
       "DOID:263         2\n",
       "DOID:4362        1\n",
       "DOID:2513        1\n",
       "DOID:1749        1\n",
       "Name: count, dtype: int64"
      ]
     },
     "execution_count": 108,
     "metadata": {},
     "output_type": "execute_result"
    }
   ],
   "source": [
    "new_df['condition_id'].value_counts()"
   ]
  },
  {
   "cell_type": "code",
   "execution_count": 109,
   "metadata": {},
   "outputs": [
    {
     "data": {
      "text/plain": [
       "biomarker_id                    6874\n",
       "biomarker                          0\n",
       "assessed_biomarker_entity          0\n",
       "assessed_biomarker_entity_id       0\n",
       "assessed_entity_type               0\n",
       "condition                          0\n",
       "condition_id                       0\n",
       "exposure_agent                  6874\n",
       "exposure_agent_id               6874\n",
       "best_biomarker_role                0\n",
       "specimen                          45\n",
       "specimen_id                       45\n",
       "loinc_code                        45\n",
       "evidence_source                    0\n",
       "evidence                           0\n",
       "tag                                0\n",
       "dtype: int64"
      ]
     },
     "execution_count": 109,
     "metadata": {},
     "output_type": "execute_result"
    }
   ],
   "source": [
    "new_df.isnull().sum()"
   ]
  },
  {
   "cell_type": "code",
   "execution_count": 110,
   "metadata": {},
   "outputs": [],
   "source": [
    "new_df['specimen_id'] = tcf.map_prefixes(new_df['specimen_id'])\n",
    "\n",
    "def test_split(x):\n",
    "    return x.apply(lambda x : x.split('()')[0].strip() if isinstance(x, str) else x)\n",
    "new_df['biomarker'] = new_df['biomarker'].apply(lambda x : x.split('(')[0].strip() if isinstance(x, str) else x)"
   ]
  },
  {
   "cell_type": "code",
   "execution_count": 111,
   "metadata": {},
   "outputs": [],
   "source": [
    "new_df.to_csv('../home/cleaned_data/markerdb.tsv', sep='\\t', index=False)"
   ]
  }
 ],
 "metadata": {
  "kernelspec": {
   "display_name": "env",
   "language": "python",
   "name": "python3"
  },
  "language_info": {
   "codemirror_mode": {
    "name": "ipython",
    "version": 3
   },
   "file_extension": ".py",
   "mimetype": "text/x-python",
   "name": "python",
   "nbconvert_exporter": "python",
   "pygments_lexer": "ipython3",
   "version": "3.10.12"
  }
 },
 "nbformat": 4,
 "nbformat_minor": 2
}
