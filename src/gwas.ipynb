{
 "cells": [
  {
   "cell_type": "markdown",
   "metadata": {},
   "source": [
    "# GWAS \n",
    "\n",
    "Original data was pulled from [here](https://www.ebi.ac.uk/gwas/docs/file-downloads) (all associations v1.0) on 2/14/24."
   ]
  },
  {
   "cell_type": "code",
   "execution_count": 1,
   "metadata": {},
   "outputs": [
    {
     "name": "stderr",
     "output_type": "stream",
     "text": [
      "/tmp/ipykernel_1743/2536380011.py:5: DtypeWarning: Columns (9,11,12,13,23,26) have mixed types. Specify dtype option on import or set low_memory=False.\n",
      "  gwas_raw = pd.read_csv('../home/raw_data/GlyGen/gwas_raw.tsv', sep='\\t')\n"
     ]
    }
   ],
   "source": [
    "import pandas as pd\n",
    "import table_cleaning_functions as tcf \n",
    "\n",
    "# read in raw data \n",
    "gwas_raw = pd.read_csv('../home/raw_data/GlyGen/gwas_raw.tsv', sep='\\t')"
   ]
  },
  {
   "cell_type": "code",
   "execution_count": 2,
   "metadata": {},
   "outputs": [
    {
     "name": "stdout",
     "output_type": "stream",
     "text": [
      "(571148, 34)\n"
     ]
    },
    {
     "data": {
      "text/html": [
       "<div>\n",
       "<style scoped>\n",
       "    .dataframe tbody tr th:only-of-type {\n",
       "        vertical-align: middle;\n",
       "    }\n",
       "\n",
       "    .dataframe tbody tr th {\n",
       "        vertical-align: top;\n",
       "    }\n",
       "\n",
       "    .dataframe thead th {\n",
       "        text-align: right;\n",
       "    }\n",
       "</style>\n",
       "<table border=\"1\" class=\"dataframe\">\n",
       "  <thead>\n",
       "    <tr style=\"text-align: right;\">\n",
       "      <th></th>\n",
       "      <th>DATE ADDED TO CATALOG</th>\n",
       "      <th>PUBMEDID</th>\n",
       "      <th>FIRST AUTHOR</th>\n",
       "      <th>DATE</th>\n",
       "      <th>JOURNAL</th>\n",
       "      <th>LINK</th>\n",
       "      <th>STUDY</th>\n",
       "      <th>DISEASE/TRAIT</th>\n",
       "      <th>INITIAL SAMPLE SIZE</th>\n",
       "      <th>REPLICATION SAMPLE SIZE</th>\n",
       "      <th>...</th>\n",
       "      <th>CONTEXT</th>\n",
       "      <th>INTERGENIC</th>\n",
       "      <th>RISK ALLELE FREQUENCY</th>\n",
       "      <th>P-VALUE</th>\n",
       "      <th>PVALUE_MLOG</th>\n",
       "      <th>P-VALUE (TEXT)</th>\n",
       "      <th>OR or BETA</th>\n",
       "      <th>95% CI (TEXT)</th>\n",
       "      <th>PLATFORM [SNPS PASSING QC]</th>\n",
       "      <th>CNV</th>\n",
       "    </tr>\n",
       "  </thead>\n",
       "  <tbody>\n",
       "    <tr>\n",
       "      <th>0</th>\n",
       "      <td>2017-08-10</td>\n",
       "      <td>28443625</td>\n",
       "      <td>Justice AE</td>\n",
       "      <td>2017-04-26</td>\n",
       "      <td>Nat Commun</td>\n",
       "      <td>www.ncbi.nlm.nih.gov/pubmed/28443625</td>\n",
       "      <td>Genome-wide meta-analysis of 241,258 adults ac...</td>\n",
       "      <td>BMI in non-smokers</td>\n",
       "      <td>77,279 European ancestry women, 47,280 Europea...</td>\n",
       "      <td>16,011 European ancestry women, 17,912 Europea...</td>\n",
       "      <td>...</td>\n",
       "      <td>intergenic_variant</td>\n",
       "      <td>1.0</td>\n",
       "      <td>0.847</td>\n",
       "      <td>5.000000e-08</td>\n",
       "      <td>7.301030</td>\n",
       "      <td>NaN</td>\n",
       "      <td>0.0230</td>\n",
       "      <td>[0.015-0.031] kg/m2 increase</td>\n",
       "      <td>Affymetrix, Illumina, Perlegen [up to 2800000]...</td>\n",
       "      <td>N</td>\n",
       "    </tr>\n",
       "    <tr>\n",
       "      <th>1</th>\n",
       "      <td>2017-08-10</td>\n",
       "      <td>28443625</td>\n",
       "      <td>Justice AE</td>\n",
       "      <td>2017-04-26</td>\n",
       "      <td>Nat Commun</td>\n",
       "      <td>www.ncbi.nlm.nih.gov/pubmed/28443625</td>\n",
       "      <td>Genome-wide meta-analysis of 241,258 adults ac...</td>\n",
       "      <td>BMI in non-smokers</td>\n",
       "      <td>77,279 European ancestry women, 47,280 Europea...</td>\n",
       "      <td>16,011 European ancestry women, 17,912 Europea...</td>\n",
       "      <td>...</td>\n",
       "      <td>intergenic_variant</td>\n",
       "      <td>1.0</td>\n",
       "      <td>0.469</td>\n",
       "      <td>7.000000e-07</td>\n",
       "      <td>6.154902</td>\n",
       "      <td>NaN</td>\n",
       "      <td>0.0192</td>\n",
       "      <td>[0.012-0.027] kg/m2 increase</td>\n",
       "      <td>Affymetrix, Illumina, Perlegen [up to 2800000]...</td>\n",
       "      <td>N</td>\n",
       "    </tr>\n",
       "    <tr>\n",
       "      <th>2</th>\n",
       "      <td>2017-08-10</td>\n",
       "      <td>28443625</td>\n",
       "      <td>Justice AE</td>\n",
       "      <td>2017-04-26</td>\n",
       "      <td>Nat Commun</td>\n",
       "      <td>www.ncbi.nlm.nih.gov/pubmed/28443625</td>\n",
       "      <td>Genome-wide meta-analysis of 241,258 adults ac...</td>\n",
       "      <td>BMI in non-smokers</td>\n",
       "      <td>77,279 European ancestry women, 47,280 Europea...</td>\n",
       "      <td>16,011 European ancestry women, 17,912 Europea...</td>\n",
       "      <td>...</td>\n",
       "      <td>intron_variant</td>\n",
       "      <td>0.0</td>\n",
       "      <td>0.2894</td>\n",
       "      <td>7.000000e-09</td>\n",
       "      <td>8.154902</td>\n",
       "      <td>(men)</td>\n",
       "      <td>0.0341</td>\n",
       "      <td>[0.023-0.046] kg/m2 decrease</td>\n",
       "      <td>Affymetrix, Illumina, Perlegen [up to 2800000]...</td>\n",
       "      <td>N</td>\n",
       "    </tr>\n",
       "    <tr>\n",
       "      <th>3</th>\n",
       "      <td>2017-08-10</td>\n",
       "      <td>28443625</td>\n",
       "      <td>Justice AE</td>\n",
       "      <td>2017-04-26</td>\n",
       "      <td>Nat Commun</td>\n",
       "      <td>www.ncbi.nlm.nih.gov/pubmed/28443625</td>\n",
       "      <td>Genome-wide meta-analysis of 241,258 adults ac...</td>\n",
       "      <td>BMI in non-smokers</td>\n",
       "      <td>77,279 European ancestry women, 47,280 Europea...</td>\n",
       "      <td>16,011 European ancestry women, 17,912 Europea...</td>\n",
       "      <td>...</td>\n",
       "      <td>intron_variant</td>\n",
       "      <td>0.0</td>\n",
       "      <td>0.2894</td>\n",
       "      <td>7.000000e-10</td>\n",
       "      <td>9.154902</td>\n",
       "      <td>NaN</td>\n",
       "      <td>0.0264</td>\n",
       "      <td>[0.018-0.035] kg/m2 decrease</td>\n",
       "      <td>Affymetrix, Illumina, Perlegen [up to 2800000]...</td>\n",
       "      <td>N</td>\n",
       "    </tr>\n",
       "    <tr>\n",
       "      <th>4</th>\n",
       "      <td>2017-08-10</td>\n",
       "      <td>28443625</td>\n",
       "      <td>Justice AE</td>\n",
       "      <td>2017-04-26</td>\n",
       "      <td>Nat Commun</td>\n",
       "      <td>www.ncbi.nlm.nih.gov/pubmed/28443625</td>\n",
       "      <td>Genome-wide meta-analysis of 241,258 adults ac...</td>\n",
       "      <td>BMI in non-smokers</td>\n",
       "      <td>77,279 European ancestry women, 47,280 Europea...</td>\n",
       "      <td>16,011 European ancestry women, 17,912 Europea...</td>\n",
       "      <td>...</td>\n",
       "      <td>intergenic_variant</td>\n",
       "      <td>1.0</td>\n",
       "      <td>0.8269</td>\n",
       "      <td>3.000000e-09</td>\n",
       "      <td>8.522879</td>\n",
       "      <td>(women)</td>\n",
       "      <td>0.0376</td>\n",
       "      <td>[0.025-0.05] kg/m2 decrease</td>\n",
       "      <td>Affymetrix, Illumina, Perlegen [up to 2800000]...</td>\n",
       "      <td>N</td>\n",
       "    </tr>\n",
       "  </tbody>\n",
       "</table>\n",
       "<p>5 rows × 34 columns</p>\n",
       "</div>"
      ],
      "text/plain": [
       "  DATE ADDED TO CATALOG  PUBMEDID FIRST AUTHOR        DATE     JOURNAL  \\\n",
       "0            2017-08-10  28443625   Justice AE  2017-04-26  Nat Commun   \n",
       "1            2017-08-10  28443625   Justice AE  2017-04-26  Nat Commun   \n",
       "2            2017-08-10  28443625   Justice AE  2017-04-26  Nat Commun   \n",
       "3            2017-08-10  28443625   Justice AE  2017-04-26  Nat Commun   \n",
       "4            2017-08-10  28443625   Justice AE  2017-04-26  Nat Commun   \n",
       "\n",
       "                                   LINK  \\\n",
       "0  www.ncbi.nlm.nih.gov/pubmed/28443625   \n",
       "1  www.ncbi.nlm.nih.gov/pubmed/28443625   \n",
       "2  www.ncbi.nlm.nih.gov/pubmed/28443625   \n",
       "3  www.ncbi.nlm.nih.gov/pubmed/28443625   \n",
       "4  www.ncbi.nlm.nih.gov/pubmed/28443625   \n",
       "\n",
       "                                               STUDY       DISEASE/TRAIT  \\\n",
       "0  Genome-wide meta-analysis of 241,258 adults ac...  BMI in non-smokers   \n",
       "1  Genome-wide meta-analysis of 241,258 adults ac...  BMI in non-smokers   \n",
       "2  Genome-wide meta-analysis of 241,258 adults ac...  BMI in non-smokers   \n",
       "3  Genome-wide meta-analysis of 241,258 adults ac...  BMI in non-smokers   \n",
       "4  Genome-wide meta-analysis of 241,258 adults ac...  BMI in non-smokers   \n",
       "\n",
       "                                 INITIAL SAMPLE SIZE  \\\n",
       "0  77,279 European ancestry women, 47,280 Europea...   \n",
       "1  77,279 European ancestry women, 47,280 Europea...   \n",
       "2  77,279 European ancestry women, 47,280 Europea...   \n",
       "3  77,279 European ancestry women, 47,280 Europea...   \n",
       "4  77,279 European ancestry women, 47,280 Europea...   \n",
       "\n",
       "                             REPLICATION SAMPLE SIZE  ...             CONTEXT  \\\n",
       "0  16,011 European ancestry women, 17,912 Europea...  ...  intergenic_variant   \n",
       "1  16,011 European ancestry women, 17,912 Europea...  ...  intergenic_variant   \n",
       "2  16,011 European ancestry women, 17,912 Europea...  ...      intron_variant   \n",
       "3  16,011 European ancestry women, 17,912 Europea...  ...      intron_variant   \n",
       "4  16,011 European ancestry women, 17,912 Europea...  ...  intergenic_variant   \n",
       "\n",
       "  INTERGENIC RISK ALLELE FREQUENCY       P-VALUE PVALUE_MLOG P-VALUE (TEXT)  \\\n",
       "0        1.0                 0.847  5.000000e-08    7.301030            NaN   \n",
       "1        1.0                 0.469  7.000000e-07    6.154902            NaN   \n",
       "2        0.0                0.2894  7.000000e-09    8.154902          (men)   \n",
       "3        0.0                0.2894  7.000000e-10    9.154902            NaN   \n",
       "4        1.0                0.8269  3.000000e-09    8.522879        (women)   \n",
       "\n",
       "  OR or BETA                 95% CI (TEXT)  \\\n",
       "0     0.0230  [0.015-0.031] kg/m2 increase   \n",
       "1     0.0192  [0.012-0.027] kg/m2 increase   \n",
       "2     0.0341  [0.023-0.046] kg/m2 decrease   \n",
       "3     0.0264  [0.018-0.035] kg/m2 decrease   \n",
       "4     0.0376   [0.025-0.05] kg/m2 decrease   \n",
       "\n",
       "                          PLATFORM [SNPS PASSING QC]  CNV  \n",
       "0  Affymetrix, Illumina, Perlegen [up to 2800000]...    N  \n",
       "1  Affymetrix, Illumina, Perlegen [up to 2800000]...    N  \n",
       "2  Affymetrix, Illumina, Perlegen [up to 2800000]...    N  \n",
       "3  Affymetrix, Illumina, Perlegen [up to 2800000]...    N  \n",
       "4  Affymetrix, Illumina, Perlegen [up to 2800000]...    N  \n",
       "\n",
       "[5 rows x 34 columns]"
      ]
     },
     "execution_count": 2,
     "metadata": {},
     "output_type": "execute_result"
    }
   ],
   "source": [
    "print(gwas_raw.shape)\n",
    "gwas_raw.head()"
   ]
  },
  {
   "cell_type": "markdown",
   "metadata": {},
   "source": [
    "Drop unnecessary columns. "
   ]
  },
  {
   "cell_type": "code",
   "execution_count": 3,
   "metadata": {},
   "outputs": [
    {
     "data": {
      "text/plain": [
       "Index(['DATE ADDED TO CATALOG', 'PUBMEDID', 'FIRST AUTHOR', 'DATE', 'JOURNAL',\n",
       "       'LINK', 'STUDY', 'DISEASE/TRAIT', 'INITIAL SAMPLE SIZE',\n",
       "       'REPLICATION SAMPLE SIZE', 'REGION', 'CHR_ID', 'CHR_POS',\n",
       "       'REPORTED GENE(S)', 'MAPPED_GENE', 'UPSTREAM_GENE_ID',\n",
       "       'DOWNSTREAM_GENE_ID', 'SNP_GENE_IDS', 'UPSTREAM_GENE_DISTANCE',\n",
       "       'DOWNSTREAM_GENE_DISTANCE', 'STRONGEST SNP-RISK ALLELE', 'SNPS',\n",
       "       'MERGED', 'SNP_ID_CURRENT', 'CONTEXT', 'INTERGENIC',\n",
       "       'RISK ALLELE FREQUENCY', 'P-VALUE', 'PVALUE_MLOG', 'P-VALUE (TEXT)',\n",
       "       'OR or BETA', '95% CI (TEXT)', 'PLATFORM [SNPS PASSING QC]', 'CNV'],\n",
       "      dtype='object')"
      ]
     },
     "execution_count": 3,
     "metadata": {},
     "output_type": "execute_result"
    }
   ],
   "source": [
    "gwas_raw.columns"
   ]
  },
  {
   "cell_type": "code",
   "execution_count": 4,
   "metadata": {},
   "outputs": [
    {
     "data": {
      "text/html": [
       "<div>\n",
       "<style scoped>\n",
       "    .dataframe tbody tr th:only-of-type {\n",
       "        vertical-align: middle;\n",
       "    }\n",
       "\n",
       "    .dataframe tbody tr th {\n",
       "        vertical-align: top;\n",
       "    }\n",
       "\n",
       "    .dataframe thead th {\n",
       "        text-align: right;\n",
       "    }\n",
       "</style>\n",
       "<table border=\"1\" class=\"dataframe\">\n",
       "  <thead>\n",
       "    <tr style=\"text-align: right;\">\n",
       "      <th></th>\n",
       "      <th>DISEASE/TRAIT</th>\n",
       "      <th>MAPPED_GENE</th>\n",
       "      <th>SNPS</th>\n",
       "    </tr>\n",
       "  </thead>\n",
       "  <tbody>\n",
       "    <tr>\n",
       "      <th>0</th>\n",
       "      <td>BMI in non-smokers</td>\n",
       "      <td>SRRM1P2 - LINC00971</td>\n",
       "      <td>rs6794880</td>\n",
       "    </tr>\n",
       "    <tr>\n",
       "      <th>1</th>\n",
       "      <td>BMI in non-smokers</td>\n",
       "      <td>STARP1 - HNRNPA3P5</td>\n",
       "      <td>rs9540493</td>\n",
       "    </tr>\n",
       "    <tr>\n",
       "      <th>2</th>\n",
       "      <td>BMI in non-smokers</td>\n",
       "      <td>TCF7L2</td>\n",
       "      <td>rs7903146</td>\n",
       "    </tr>\n",
       "    <tr>\n",
       "      <th>3</th>\n",
       "      <td>BMI in non-smokers</td>\n",
       "      <td>TCF7L2</td>\n",
       "      <td>rs7903146</td>\n",
       "    </tr>\n",
       "    <tr>\n",
       "      <th>4</th>\n",
       "      <td>BMI in non-smokers</td>\n",
       "      <td>RPS17P5 - FTH1P5</td>\n",
       "      <td>rs2207139</td>\n",
       "    </tr>\n",
       "  </tbody>\n",
       "</table>\n",
       "</div>"
      ],
      "text/plain": [
       "        DISEASE/TRAIT          MAPPED_GENE       SNPS\n",
       "0  BMI in non-smokers  SRRM1P2 - LINC00971  rs6794880\n",
       "1  BMI in non-smokers   STARP1 - HNRNPA3P5  rs9540493\n",
       "2  BMI in non-smokers               TCF7L2  rs7903146\n",
       "3  BMI in non-smokers               TCF7L2  rs7903146\n",
       "4  BMI in non-smokers     RPS17P5 - FTH1P5  rs2207139"
      ]
     },
     "execution_count": 4,
     "metadata": {},
     "output_type": "execute_result"
    }
   ],
   "source": [
    "drop_cols = ['DATE ADDED TO CATALOG', 'PUBMEDID', 'FIRST AUTHOR', 'DATE', 'JOURNAL',\n",
    "            'LINK', 'STUDY', 'INITIAL SAMPLE SIZE', 'REPLICATION SAMPLE SIZE', 'REGION',\n",
    "            'CHR_ID', 'CHR_POS', 'REPORTED GENE(S)', 'UPSTREAM_GENE_ID', 'DOWNSTREAM_GENE_ID',\n",
    "            'SNP_GENE_IDS', 'UPSTREAM_GENE_DISTANCE', 'DOWNSTREAM_GENE_DISTANCE', 'STRONGEST SNP-RISK ALLELE',\n",
    "            'MERGED', 'SNP_ID_CURRENT', 'CONTEXT', 'INTERGENIC', 'RISK ALLELE FREQUENCY', 'P-VALUE',\n",
    "            'PVALUE_MLOG', 'P-VALUE (TEXT)', 'OR or BETA', '95% CI (TEXT)', 'PLATFORM [SNPS PASSING QC]', 'CNV']\n",
    "gwas_raw = gwas_raw.drop(columns = drop_cols)\n",
    "gwas_raw.head()"
   ]
  },
  {
   "cell_type": "markdown",
   "metadata": {},
   "source": [
    "Only interested in cancer related rows right now, filter on cancer related conditions. "
   ]
  },
  {
   "cell_type": "code",
   "execution_count": 8,
   "metadata": {},
   "outputs": [
    {
     "name": "stdout",
     "output_type": "stream",
     "text": [
      "(15456, 3)\n"
     ]
    },
    {
     "data": {
      "text/html": [
       "<div>\n",
       "<style scoped>\n",
       "    .dataframe tbody tr th:only-of-type {\n",
       "        vertical-align: middle;\n",
       "    }\n",
       "\n",
       "    .dataframe tbody tr th {\n",
       "        vertical-align: top;\n",
       "    }\n",
       "\n",
       "    .dataframe thead th {\n",
       "        text-align: right;\n",
       "    }\n",
       "</style>\n",
       "<table border=\"1\" class=\"dataframe\">\n",
       "  <thead>\n",
       "    <tr style=\"text-align: right;\">\n",
       "      <th></th>\n",
       "      <th>DISEASE/TRAIT</th>\n",
       "      <th>MAPPED_GENE</th>\n",
       "      <th>SNPS</th>\n",
       "    </tr>\n",
       "  </thead>\n",
       "  <tbody>\n",
       "    <tr>\n",
       "      <th>149</th>\n",
       "      <td>Survival in pancreatic cancer</td>\n",
       "      <td>PAIP2B</td>\n",
       "      <td>rs113988120</td>\n",
       "    </tr>\n",
       "    <tr>\n",
       "      <th>150</th>\n",
       "      <td>Survival in pancreatic cancer</td>\n",
       "      <td>B4GALT4, B4GALT4-AS1</td>\n",
       "      <td>rs4568126</td>\n",
       "    </tr>\n",
       "    <tr>\n",
       "      <th>151</th>\n",
       "      <td>Survival in pancreatic cancer</td>\n",
       "      <td>RPL21P119 - LINC02177</td>\n",
       "      <td>rs4780973</td>\n",
       "    </tr>\n",
       "    <tr>\n",
       "      <th>152</th>\n",
       "      <td>Survival in pancreatic cancer</td>\n",
       "      <td>LINC00376 - LINC00395</td>\n",
       "      <td>rs1000589</td>\n",
       "    </tr>\n",
       "    <tr>\n",
       "      <th>153</th>\n",
       "      <td>Survival in pancreatic cancer</td>\n",
       "      <td>LINC01163 - LINC02667</td>\n",
       "      <td>rs10734079</td>\n",
       "    </tr>\n",
       "  </tbody>\n",
       "</table>\n",
       "</div>"
      ],
      "text/plain": [
       "                     DISEASE/TRAIT            MAPPED_GENE         SNPS\n",
       "149  Survival in pancreatic cancer                 PAIP2B  rs113988120\n",
       "150  Survival in pancreatic cancer   B4GALT4, B4GALT4-AS1    rs4568126\n",
       "151  Survival in pancreatic cancer  RPL21P119 - LINC02177    rs4780973\n",
       "152  Survival in pancreatic cancer  LINC00376 - LINC00395    rs1000589\n",
       "153  Survival in pancreatic cancer  LINC01163 - LINC02667   rs10734079"
      ]
     },
     "execution_count": 8,
     "metadata": {},
     "output_type": "execute_result"
    }
   ],
   "source": [
    "# cancer related words\n",
    "cancer_related = ['cancer', 'carcinoma', 'leukemia', 'tumor', 'malignancy', 'glioblastoma',\n",
    "                'melanoma', 'lymphoma', 'sarcoma']\n",
    "\n",
    "# filter on only cancer related rows\n",
    "gwas_raw = gwas_raw[gwas_raw['DISEASE/TRAIT'].str.contains('|'.join(cancer_related), case = False, na = False)]\n",
    "print(gwas_raw.shape)\n",
    "gwas_raw.head()"
   ]
  },
  {
   "cell_type": "markdown",
   "metadata": {},
   "source": [
    "Drop range, list, and null mapped gene rows. "
   ]
  },
  {
   "cell_type": "code",
   "execution_count": 12,
   "metadata": {},
   "outputs": [
    {
     "data": {
      "text/plain": [
       "0"
      ]
     },
     "execution_count": 12,
     "metadata": {},
     "output_type": "execute_result"
    }
   ],
   "source": [
    "# drop rows where MAPPED_GENE is NA\n",
    "gwas_raw = gwas_raw.dropna(subset = ['MAPPED_GENE'])\n",
    "gwas_raw['MAPPED_GENE'].isna().sum()"
   ]
  },
  {
   "cell_type": "code",
   "execution_count": 15,
   "metadata": {},
   "outputs": [
    {
     "data": {
      "text/plain": [
       "(9394, 3)"
      ]
     },
     "execution_count": 15,
     "metadata": {},
     "output_type": "execute_result"
    }
   ],
   "source": [
    "# drop rows where MAPPED_GENE is a range\n",
    "gwas_raw = gwas_raw[~gwas_raw['MAPPED_GENE'].str.contains(' - ')]\n",
    "gwas_raw.shape"
   ]
  },
  {
   "cell_type": "code",
   "execution_count": 18,
   "metadata": {},
   "outputs": [
    {
     "data": {
      "text/plain": [
       "(8512, 3)"
      ]
     },
     "execution_count": 18,
     "metadata": {},
     "output_type": "execute_result"
    }
   ],
   "source": [
    "# drop rows where MAPPED_GENE is a list\n",
    "gwas_raw = gwas_raw[~gwas_raw['MAPPED_GENE'].str.contains(',')]\n",
    "gwas_raw.shape"
   ]
  },
  {
   "cell_type": "code",
   "execution_count": 19,
   "metadata": {},
   "outputs": [
    {
     "data": {
      "text/html": [
       "<div>\n",
       "<style scoped>\n",
       "    .dataframe tbody tr th:only-of-type {\n",
       "        vertical-align: middle;\n",
       "    }\n",
       "\n",
       "    .dataframe tbody tr th {\n",
       "        vertical-align: top;\n",
       "    }\n",
       "\n",
       "    .dataframe thead th {\n",
       "        text-align: right;\n",
       "    }\n",
       "</style>\n",
       "<table border=\"1\" class=\"dataframe\">\n",
       "  <thead>\n",
       "    <tr style=\"text-align: right;\">\n",
       "      <th></th>\n",
       "      <th>DISEASE/TRAIT</th>\n",
       "      <th>MAPPED_GENE</th>\n",
       "      <th>SNPS</th>\n",
       "    </tr>\n",
       "  </thead>\n",
       "  <tbody>\n",
       "    <tr>\n",
       "      <th>149</th>\n",
       "      <td>Survival in pancreatic cancer</td>\n",
       "      <td>PAIP2B</td>\n",
       "      <td>rs113988120</td>\n",
       "    </tr>\n",
       "    <tr>\n",
       "      <th>154</th>\n",
       "      <td>Survival in pancreatic cancer</td>\n",
       "      <td>ACOT11</td>\n",
       "      <td>rs10736390</td>\n",
       "    </tr>\n",
       "    <tr>\n",
       "      <th>157</th>\n",
       "      <td>Survival in pancreatic cancer</td>\n",
       "      <td>BDNF-AS</td>\n",
       "      <td>rs10767646</td>\n",
       "    </tr>\n",
       "    <tr>\n",
       "      <th>158</th>\n",
       "      <td>Survival in pancreatic cancer</td>\n",
       "      <td>WHRN</td>\n",
       "      <td>rs10817611</td>\n",
       "    </tr>\n",
       "    <tr>\n",
       "      <th>161</th>\n",
       "      <td>Survival in pancreatic cancer</td>\n",
       "      <td>LIN7C</td>\n",
       "      <td>rs10835188</td>\n",
       "    </tr>\n",
       "  </tbody>\n",
       "</table>\n",
       "</div>"
      ],
      "text/plain": [
       "                     DISEASE/TRAIT MAPPED_GENE         SNPS\n",
       "149  Survival in pancreatic cancer      PAIP2B  rs113988120\n",
       "154  Survival in pancreatic cancer      ACOT11   rs10736390\n",
       "157  Survival in pancreatic cancer     BDNF-AS   rs10767646\n",
       "158  Survival in pancreatic cancer        WHRN   rs10817611\n",
       "161  Survival in pancreatic cancer       LIN7C   rs10835188"
      ]
     },
     "execution_count": 19,
     "metadata": {},
     "output_type": "execute_result"
    }
   ],
   "source": [
    "gwas_raw.head()"
   ]
  },
  {
   "cell_type": "code",
   "execution_count": 22,
   "metadata": {},
   "outputs": [],
   "source": [
    "# save to tsv \n",
    "gwas_raw.to_csv('../home/data/processed_data/gwas_processed.tsv', sep = '\\t', index = False)"
   ]
  },
  {
   "cell_type": "code",
   "execution_count": 24,
   "metadata": {},
   "outputs": [],
   "source": [
    "# isolate conditions\n",
    "conditions = gwas_raw['DISEASE/TRAIT']\n",
    "# consolidate unique conditions\n",
    "conditions = conditions.drop_duplicates()\n",
    "conditions.to_csv('../home/data/processed_data/gwas_conditions.tsv', sep = '\\t', index = False)"
   ]
  },
  {
   "cell_type": "markdown",
   "metadata": {},
   "source": [
    "Create the empty TSV file."
   ]
  },
  {
   "cell_type": "code",
   "execution_count": 6,
   "metadata": {},
   "outputs": [
    {
     "data": {
      "text/html": [
       "<div>\n",
       "<style scoped>\n",
       "    .dataframe tbody tr th:only-of-type {\n",
       "        vertical-align: middle;\n",
       "    }\n",
       "\n",
       "    .dataframe tbody tr th {\n",
       "        vertical-align: top;\n",
       "    }\n",
       "\n",
       "    .dataframe thead th {\n",
       "        text-align: right;\n",
       "    }\n",
       "</style>\n",
       "<table border=\"1\" class=\"dataframe\">\n",
       "  <thead>\n",
       "    <tr style=\"text-align: right;\">\n",
       "      <th></th>\n",
       "      <th>biomarker_id</th>\n",
       "      <th>biomarker</th>\n",
       "      <th>assessed_biomarker_entity</th>\n",
       "      <th>assessed_biomarker_entity_id</th>\n",
       "      <th>assessed_entity_type</th>\n",
       "      <th>condition</th>\n",
       "      <th>condition_id</th>\n",
       "      <th>exposure_agent</th>\n",
       "      <th>exposure_agent_id</th>\n",
       "      <th>best_biomarker_role</th>\n",
       "      <th>specimen</th>\n",
       "      <th>specimen_id</th>\n",
       "      <th>loinc_code</th>\n",
       "      <th>evidence_source</th>\n",
       "      <th>evidence</th>\n",
       "      <th>tag</th>\n",
       "    </tr>\n",
       "  </thead>\n",
       "  <tbody>\n",
       "  </tbody>\n",
       "</table>\n",
       "</div>"
      ],
      "text/plain": [
       "Empty DataFrame\n",
       "Columns: [biomarker_id, biomarker, assessed_biomarker_entity, assessed_biomarker_entity_id, assessed_entity_type, condition, condition_id, exposure_agent, exposure_agent_id, best_biomarker_role, specimen, specimen_id, loinc_code, evidence_source, evidence, tag]\n",
       "Index: []"
      ]
     },
     "execution_count": 6,
     "metadata": {},
     "output_type": "execute_result"
    }
   ],
   "source": [
    "df = pd.DataFrame(columns = tcf.TSV_HEADERS)\n",
    "df.head()"
   ]
  }
 ],
 "metadata": {
  "kernelspec": {
   "display_name": "Python 3",
   "language": "python",
   "name": "python3"
  },
  "language_info": {
   "codemirror_mode": {
    "name": "ipython",
    "version": 3
   },
   "file_extension": ".py",
   "mimetype": "text/x-python",
   "name": "python",
   "nbconvert_exporter": "python",
   "pygments_lexer": "ipython3",
   "version": "3.10.12"
  },
  "orig_nbformat": 4
 },
 "nbformat": 4,
 "nbformat_minor": 2
}
